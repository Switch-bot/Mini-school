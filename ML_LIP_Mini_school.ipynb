{
  "nbformat": 4,
  "nbformat_minor": 0,
  "metadata": {
    "kernelspec": {
      "display_name": "Python 2",
      "language": "python",
      "name": "python2"
    },
    "language_info": {
      "codemirror_mode": {
        "name": "ipython",
        "version": 3
      },
      "file_extension": ".py",
      "mimetype": "text/x-python",
      "name": "python",
      "nbconvert_exporter": "python",
      "pygments_lexer": "ipython3",
      "version": "3.7.3"
    },
    "colab": {
      "name": "ML_LIP_Mini-school.ipynb",
      "provenance": [],
      "collapsed_sections": [
        "srxfRpDceyC9",
        "r4SXSxXfeyDC",
        "X6H5-RBWeyDS",
        "_Rix5ORSeyDf"
      ],
      "include_colab_link": true
    }
  },
  "cells": [
    {
      "cell_type": "markdown",
      "metadata": {
        "id": "view-in-github",
        "colab_type": "text"
      },
      "source": [
        "<a href=\"https://colab.research.google.com/github/Switch-bot/Mini-school/blob/main/ML_LIP_Mini_school.ipynb\" target=\"_parent\"><img src=\"https://colab.research.google.com/assets/colab-badge.svg\" alt=\"Open In Colab\"/></a>"
      ]
    },
    {
      "cell_type": "markdown",
      "metadata": {
        "id": "NHYjirCfex_a"
      },
      "source": [
        "## Import modules"
      ]
    },
    {
      "cell_type": "code",
      "metadata": {
        "id": "mQkf-Sveex_c",
        "colab": {
          "base_uri": "https://localhost:8080/"
        },
        "outputId": "cdaa0ad1-142e-45b1-bead-6bca2158a947"
      },
      "source": [
        "from __future__ import division\n",
        "from __future__ import print_function\n",
        "\n",
        "%matplotlib inline\n",
        "\n",
        "import matplotlib.pyplot as plt\n",
        "import numpy as np\n",
        "import pandas\n",
        "import timeit #more accurate than time\n",
        "\n",
        "import theano\n",
        "import tensorflow\n",
        "\n",
        "from sklearn.decomposition import PCA\n",
        "import joblib\n",
        "from sklearn.metrics import roc_curve, roc_auc_score\n",
        "from sklearn.model_selection import train_test_split, StratifiedKFold\n",
        "from sklearn.pipeline import Pipeline\n",
        "from sklearn.preprocessing import StandardScaler\n",
        "\n",
        "import keras\n",
        "from keras import backend as K\n",
        "from keras.callbacks import EarlyStopping, ModelCheckpoint, Callback\n",
        "from keras.layers import Dense, Activation, Dropout\n",
        "from keras.models import Sequential, model_from_json, load_model\n",
        "from tensorflow.keras.optimizers import SGD\n",
        "from tensorflow.keras.optimizers import Nadam\n",
        "from tensorflow.keras.optimizers import Adam\n",
        "\n",
        "from sklearn.utils import shuffle\n",
        "\n",
        "import seaborn as sns\n",
        "sns.set_style(\"white\")\n",
        "import os\n",
        "import json\n",
        "#import shap\n",
        "\n",
        "\n",
        "from six.moves import cPickle #Faster than pickle\n",
        "\n",
        "from google.colab import drive\n",
        "drive.mount('/content/drive')"
      ],
      "execution_count": 1,
      "outputs": [
        {
          "output_type": "stream",
          "name": "stdout",
          "text": [
            "Drive already mounted at /content/drive; to attempt to forcibly remount, call drive.mount(\"/content/drive\", force_remount=True).\n"
          ]
        }
      ]
    },
    {
      "cell_type": "markdown",
      "metadata": {
        "id": "uhPDh_n9ex_k"
      },
      "source": [
        "# Configure data"
      ]
    },
    {
      "cell_type": "markdown",
      "metadata": {
        "id": "XYItMrpEex_l"
      },
      "source": [
        "## Load Signal Samples"
      ]
    },
    {
      "cell_type": "markdown",
      "metadata": {
        "id": "75oNEknKex_n"
      },
      "source": [
        "### Load the signal\n",
        "---"
      ]
    },
    {
      "cell_type": "markdown",
      "source": [
        "Here we will load the samples that we will work with. Notice that all samples have a collumn with \"Event Type\". This is a default flag with the following correspondence:\n",
        "1 - Heavy Neutral Lepton;\n",
        "2 - Dark Photon;\n",
        "3 - Neutralino;\n",
        "4 - Neutrino DIS"
      ],
      "metadata": {
        "id": "JNv4Ie3fXLz0"
      }
    },
    {
      "cell_type": "code",
      "metadata": {
        "id": "toBZ3-pBex_w",
        "colab": {
          "base_uri": "https://localhost:8080/"
        },
        "outputId": "c5ab3e4f-9223-4b68-b1a1-2ba3e91a9c2b"
      },
      "source": [
        "!wget https://media.githubusercontent.com/media/Switch-bot/Mini-school/main/kinematic_variables_HNLtoPimu.dat\n",
        "!wget https://media.githubusercontent.com/media/Switch-bot/Mini-school/main/kinematic_variables_HNLtoRhomu.dat\n",
        "Signal = pandas.read_csv(\"kinematic_variables_HNLtoRhomu.dat\")\n",
        "Signal['target'] = 1.0 # If you are doing a binary separation you can set the\n",
        "                       # target score as 1.0 for the signal and 0.0 for the background\n",
        "#Signal[' Decay Mode'] = 1 # Flag that you can use to maintain the samples organized, in case you load several at the same time\n",
        "#Signal.head()"
      ],
      "execution_count": 2,
      "outputs": [
        {
          "output_type": "stream",
          "name": "stdout",
          "text": [
            "--2022-05-13 22:44:12--  https://media.githubusercontent.com/media/Switch-bot/Mini-school/main/kinematic_variables_HNLtoPimu.dat\n",
            "Resolving media.githubusercontent.com (media.githubusercontent.com)... 185.199.110.133, 185.199.111.133, 185.199.109.133, ...\n",
            "Connecting to media.githubusercontent.com (media.githubusercontent.com)|185.199.110.133|:443... connected.\n",
            "HTTP request sent, awaiting response... 200 OK\n",
            "Length: 1097227 (1.0M) [text/plain]\n",
            "Saving to: ‘kinematic_variables_HNLtoPimu.dat’\n",
            "\n",
            "kinematic_variables 100%[===================>]   1.05M  --.-KB/s    in 0.03s   \n",
            "\n",
            "2022-05-13 22:44:12 (32.6 MB/s) - ‘kinematic_variables_HNLtoPimu.dat’ saved [1097227/1097227]\n",
            "\n",
            "--2022-05-13 22:44:12--  https://media.githubusercontent.com/media/Switch-bot/Mini-school/main/kinematic_variables_HNLtoRhomu.dat\n",
            "Resolving media.githubusercontent.com (media.githubusercontent.com)... 185.199.110.133, 185.199.111.133, 185.199.109.133, ...\n",
            "Connecting to media.githubusercontent.com (media.githubusercontent.com)|185.199.110.133|:443... connected.\n",
            "HTTP request sent, awaiting response... 200 OK\n",
            "Length: 870654 (850K) [text/plain]\n",
            "Saving to: ‘kinematic_variables_HNLtoRhomu.dat’\n",
            "\n",
            "kinematic_variables 100%[===================>] 850.25K  --.-KB/s    in 0.04s   \n",
            "\n",
            "2022-05-13 22:44:12 (22.9 MB/s) - ‘kinematic_variables_HNLtoRhomu.dat’ saved [870654/870654]\n",
            "\n"
          ]
        }
      ]
    },
    {
      "cell_type": "markdown",
      "source": [
        "### Load the background"
      ],
      "metadata": {
        "id": "HnhJBFDiX7E1"
      }
    },
    {
      "cell_type": "code",
      "source": [
        "!wget https://media.githubusercontent.com/media/Switch-bot/Mini-school/main/kinematic_variables_Back.dat\n",
        "Background = pandas.read_csv(\"kinematic_variables_Back.dat\")\n",
        "Background['target'] = 0.0 # Since we set the target score for the Signal as 1.0\n",
        "                       # we will set it as 0.0 for the background\n",
        "#Background.head()"
      ],
      "metadata": {
        "colab": {
          "base_uri": "https://localhost:8080/"
        },
        "id": "-gRuEsSEYMDj",
        "outputId": "023c37b9-3893-4b87-8356-ee0415945d44"
      },
      "execution_count": 5,
      "outputs": [
        {
          "output_type": "stream",
          "name": "stdout",
          "text": [
            "--2022-05-13 22:44:48--  https://media.githubusercontent.com/media/Switch-bot/Mini-school/main/kinematic_variables_Back.dat\n",
            "Resolving media.githubusercontent.com (media.githubusercontent.com)... 185.199.108.133, 185.199.109.133, 185.199.110.133, ...\n",
            "Connecting to media.githubusercontent.com (media.githubusercontent.com)|185.199.108.133|:443... connected.\n",
            "HTTP request sent, awaiting response... 200 OK\n",
            "Length: 941227 (919K) [text/plain]\n",
            "Saving to: ‘kinematic_variables_Back.dat’\n",
            "\n",
            "kinematic_variables 100%[===================>] 919.17K  --.-KB/s    in 0.03s   \n",
            "\n",
            "2022-05-13 22:44:49 (33.3 MB/s) - ‘kinematic_variables_Back.dat’ saved [941227/941227]\n",
            "\n"
          ]
        }
      ]
    },
    {
      "cell_type": "markdown",
      "source": [
        "# Traditional Analysis"
      ],
      "metadata": {
        "id": "1ZLTpIor0gMS"
      }
    },
    {
      "cell_type": "markdown",
      "source": [
        "### Plotting the Features of both distributions"
      ],
      "metadata": {
        "id": "AhB0216vlHjl"
      }
    },
    {
      "cell_type": "code",
      "source": [
        "ranges = dict()\n",
        "label = [\"Mother TotMom\",\"Mother TransMom\",\"Mother FracMom\", \"OA\", \"IP\", \"Track TotMom\", \"Track TransMom\", \"Track FracMom\", \"Track TotMom\", \"Track TransMom\", \"Track FracMom\", \"Decay Z\", \"Decay X\", \"Decay Y\", \"DOCA\", \"Invariant Mass\", \"Good Reco\", \"Event Flag\", \"Target (y_i)\"]\n",
        "r = [[0,250], [0,3], [0,0.2], [0,0.3], [0,1000], [0,80], [0,3], [0,0.2], [0,80], [0,3], [0,0.3],[-2800, 2800], [-300, 300], [-500, 500], [0,10], [0,1.8], [0,1], [0, 4.5], [0,1]]\n",
        "for i, col in enumerate(Signal.columns):\n",
        "    try:\n",
        "        ranges[col] = r[i]\n",
        "    except:\n",
        "        ranges[col] = [0,10]\n",
        "    \n",
        "for i, col in enumerate(Signal.columns):\n",
        "    plt.figure(i)\n",
        "\n",
        "\n",
        "    x = Signal[col]\n",
        "    y = Background[col]\n",
        "\n",
        "    ax = sns.distplot(x, hist_kws={\"range\": ranges[col]}, norm_hist = True, kde=False, label = \"Signal\")#, fit=stats.gamma);\n",
        "    ax = sns.distplot(y, hist_kws={\"range\": ranges[col]}, norm_hist = True, kde=False, label = \"Background\")#, fit=stats.gamma);\n",
        "    ax.set_xlim(ranges[col][0], ranges[col][1])\n",
        "    ax.set_title(label[i])\n",
        "    plt.legend()\n"
      ],
      "metadata": {
        "id": "uYxVQCtClMwG",
        "colab": {
          "base_uri": "https://localhost:8080/",
          "height": 1000
        },
        "outputId": "0ae4dce9-c490-4d0e-f952-cae8519bf360"
      },
      "execution_count": 6,
      "outputs": [
        {
          "output_type": "stream",
          "name": "stderr",
          "text": [
            "/usr/local/lib/python3.7/dist-packages/seaborn/distributions.py:2619: FutureWarning: `distplot` is a deprecated function and will be removed in a future version. Please adapt your code to use either `displot` (a figure-level function with similar flexibility) or `histplot` (an axes-level function for histograms).\n",
            "  warnings.warn(msg, FutureWarning)\n",
            "/usr/local/lib/python3.7/dist-packages/numpy/lib/histograms.py:906: RuntimeWarning: invalid value encountered in true_divide\n",
            "  return n/db/n.sum(), bin_edges\n"
          ]
        },
        {
          "output_type": "display_data",
          "data": {
            "text/plain": [
              "<Figure size 432x288 with 1 Axes>"
            ],
            "image/png": "[encoded data removed]"
          },
          "metadata": {
            "needs_background": "light"
          }
        },
        {
          "output_type": "display_data",
          "data": {
            "text/plain": [
              "<Figure size 432x288 with 1 Axes>"
            ],
            "image/png": "[encoded data removed]"
          },
          "metadata": {
            "needs_background": "light"
          }
        },
        {
          "output_type": "display_data",
          "data": {
            "text/plain": [
              "<Figure size 432x288 with 1 Axes>"
            ],
            "image/png": "[encoded data removed]"
          },
          "metadata": {
            "needs_background": "light"
          }
        },
        {
          "output_type": "display_data",
          "data": {
            "text/plain": [
              "<Figure size 432x288 with 1 Axes>"
            ],
            "image/png": "[encoded data removed]"
          },
          "metadata": {
            "needs_background": "light"
          }
        },
        {
          "output_type": "display_data",
          "data": {
            "text/plain": [
              "<Figure size 432x288 with 1 Axes>"
            ],
            "image/png": "[encoded data removed]"
          },
          "metadata": {
            "needs_background": "light"
          }
        },
        {
          "output_type": "display_data",
          "data": {
            "text/plain": [
              "<Figure size 432x288 with 1 Axes>"
            ],
            "image/png": "[encoded data removed]"
          },
          "metadata": {
            "needs_background": "light"
          }
        },
        {
          "output_type": "display_data",
          "data": {
            "text/plain": [
              "<Figure size 432x288 with 1 Axes>"
            ],
            "image/png": "[encoded data removed]"
          },
          "metadata": {
            "needs_background": "light"
          }
        },
        {
          "output_type": "display_data",
          "data": {
            "text/plain": [
              "<Figure size 432x288 with 1 Axes>"
            ],
            "image/png": "[encoded data removed]"
          },
          "metadata": {
            "needs_background": "light"
          }
        },
        {
          "output_type": "display_data",
          "data": {
            "text/plain": [
              "<Figure size 432x288 with 1 Axes>"
            ],
            "image/png": "[encoded data removed]"
          },
          "metadata": {
            "needs_background": "light"
          }
        },
        {
          "output_type": "display_data",
          "data": {
            "text/plain": [
              "<Figure size 432x288 with 1 Axes>"
            ],
            "image/png": "[encoded data removed]"
          },
          "metadata": {
            "needs_background": "light"
          }
        },
        {
          "output_type": "display_data",
          "data": {
            "text/plain": [
              "<Figure size 432x288 with 1 Axes>"
            ],
            "image/png": "[encoded data removed]"
          },
          "metadata": {
            "needs_background": "light"
          }
        },
        {
          "output_type": "display_data",
          "data": {
            "text/plain": [
              "<Figure size 432x288 with 1 Axes>"
            ],
            "image/png": "[encoded data removed]"
          },
          "metadata": {
            "needs_background": "light"
          }
        },
        {
          "output_type": "display_data",
          "data": {
            "text/plain": [
              "<Figure size 432x288 with 1 Axes>"
            ],
            "image/png": "[encoded data removed]"
          },
          "metadata": {
            "needs_background": "light"
          }
        },
        {
          "output_type": "display_data",
          "data": {
            "text/plain": [
              "<Figure size 432x288 with 1 Axes>"
            ],
            "image/png": "[encoded data removed]"
          },
          "metadata": {
            "needs_background": "light"
          }
        },
        {
          "output_type": "display_data",
          "data": {
            "text/plain": [
              "<Figure size 432x288 with 1 Axes>"
            ],
            "image/png": "[encoded data removed]"
          },
          "metadata": {
            "needs_background": "light"
          }
        },
        {
          "output_type": "display_data",
          "data": {
            "text/plain": [
              "<Figure size 432x288 with 1 Axes>"
            ],
            "image/png": "[encoded data removed]"
          },
          "metadata": {
            "needs_background": "light"
          }
        },
        {
          "output_type": "display_data",
          "data": {
            "text/plain": [
              "<Figure size 432x288 with 1 Axes>"
            ],
            "image/png": "[encoded data removed]"
          },
          "metadata": {
            "needs_background": "light"
          }
        },
        {
          "output_type": "display_data",
          "data": {
            "text/plain": [
              "<Figure size 432x288 with 1 Axes>"
            ],
            "image/png": "[encoded data removed]"
          },
          "metadata": {
            "needs_background": "light"
          }
        },
        {
          "output_type": "display_data",
          "data": {
            "text/plain": [
              "<Figure size 432x288 with 1 Axes>"
            ],
            "image/png": "[encoded data removed]"
          },
          "metadata": {
            "needs_background": "light"
          }
        }
      ]
    },
    {
      "cell_type": "markdown",
      "source": [
        "## Performing cuts to the datasets\n",
        "\n",
        "Performing cuts is not the goal of this workshop so I will just leave a couple of lines of code to illustrate how to perform a cut on a pandas dataset.\n",
        "\n",
        "In order to visualize the new distributions adapting the plots from the previous block of code will suffice.\n",
        "\n",
        "In order to produce a plot similar to the one in the slides you need to do a 2d histogram, with the specific color map, and draw the cut lines as specific functions that you plot over the histograms"
      ],
      "metadata": {
        "id": "rAu5rRdd0v-Z"
      }
    },
    {
      "cell_type": "code",
      "source": [
        "Cut1 = 10 #cm\n",
        "\n",
        "SignalCut1 = Signal[Signal[\" Impact Parameter (cm)\"] < 10]\n",
        "BackgCut1 = Background[Background[\" Impact Parameter (cm)\"] < 10]\n",
        "\n"
      ],
      "metadata": {
        "id": "yiDYZ2Jl0nA-"
      },
      "execution_count": null,
      "outputs": []
    },
    {
      "cell_type": "markdown",
      "source": [
        "# Machine Learning"
      ],
      "metadata": {
        "id": "Ajr4Obch0LjD"
      }
    },
    {
      "cell_type": "markdown",
      "source": [
        "### Merging our datasets\n",
        "The first thing to do is merge the two datasets in order to normalize everything to the whole dataset (more consistent since we always include every outlier in the same normalization)"
      ],
      "metadata": {
        "id": "3mNm-SqUYiAB"
      }
    },
    {
      "cell_type": "code",
      "source": [
        "FullSignal = pandas.concat([Signal,Background], ignore_index=True)\n",
        "FullSignal"
      ],
      "metadata": {
        "id": "e5rpcftCY5Ac",
        "colab": {
          "base_uri": "https://localhost:8080/",
          "height": 539
        },
        "outputId": "2416c066-6b0c-409a-cdc2-b50a7f7041b2"
      },
      "execution_count": null,
      "outputs": [
        {
          "output_type": "execute_result",
          "data": {
            "text/plain": [
              "       Mother Total Momentum (GeV/c)   Mother Transverse Momentum (GeV/c)  \\\n",
              "0                          42.745762                             0.800400   \n",
              "1                          29.026341                             0.930226   \n",
              "2                          14.294670                             0.312241   \n",
              "3                          20.148994                             0.407327   \n",
              "4                          48.389308                             0.332335   \n",
              "...                              ...                                  ...   \n",
              "11222                      22.717393                             0.589300   \n",
              "11223                      50.141742                             1.954904   \n",
              "11224                       2.728369                             0.053609   \n",
              "11225                      25.492041                             2.140690   \n",
              "11226                      22.350196                             0.918840   \n",
              "\n",
              "        Mother Fraction of Transverse Momentum   Opening Angle (rad)  \\\n",
              "0                                     0.018725              0.005894   \n",
              "1                                     0.032048              0.009308   \n",
              "2                                     0.021843              0.017295   \n",
              "3                                     0.020216              0.013485   \n",
              "4                                     0.006868              0.002764   \n",
              "...                                        ...                   ...   \n",
              "11222                                 0.025940              0.028874   \n",
              "11223                                 0.038988              0.097525   \n",
              "11224                                 0.019649              0.057216   \n",
              "11225                                 0.083975              0.151294   \n",
              "11226                                 0.041111              0.015536   \n",
              "\n",
              "        Impact Parameter (cm)   Daughter1 Total Momentum (GeV/c)  \\\n",
              "0                    0.773719                          16.592341   \n",
              "1                    1.250690                          14.022631   \n",
              "2                    1.076186                           5.000351   \n",
              "3                    4.703193                           7.840535   \n",
              "4                   15.419832                          18.806626   \n",
              "...                       ...                                ...   \n",
              "11222              144.378282                          13.808635   \n",
              "11223              158.768392                           1.717152   \n",
              "11224              144.093834                           1.527440   \n",
              "11225              888.550088                          18.261476   \n",
              "11226              254.339205                          16.828812   \n",
              "\n",
              "        Daughter1 Transverse Momentum (GeV/c)  \\\n",
              "0                                    0.330852   \n",
              "1                                    0.441334   \n",
              "2                                    0.054334   \n",
              "3                                    0.169543   \n",
              "4                                    0.155216   \n",
              "...                                       ...   \n",
              "11222                                0.454155   \n",
              "11223                                0.095789   \n",
              "11224                                0.060299   \n",
              "11225                                1.784403   \n",
              "11226                                0.690480   \n",
              "\n",
              "         Daughter1 Fraction of Transverse Momentum  \\\n",
              "0                                         0.019940   \n",
              "1                                         0.031473   \n",
              "2                                         0.010866   \n",
              "3                                         0.021624   \n",
              "4                                         0.008253   \n",
              "...                                            ...   \n",
              "11222                                     0.032889   \n",
              "11223                                     0.055784   \n",
              "11224                                     0.039477   \n",
              "11225                                     0.097714   \n",
              "11226                                     0.041030   \n",
              "\n",
              "        Daughter2 Total Momentum (GeV/c)  \\\n",
              "0                              26.152679   \n",
              "1                              15.004377   \n",
              "2                               9.295362   \n",
              "3                              12.307639   \n",
              "4                              29.500024   \n",
              "...                                  ...   \n",
              "11222                           8.916939   \n",
              "11223                          48.410311   \n",
              "11224                           1.202100   \n",
              "11225                           0.536016   \n",
              "11226                           5.406403   \n",
              "\n",
              "        Daughter2 Transverse Momentum (GeV/c)  \\\n",
              "0                                    0.478328   \n",
              "1                                    0.498309   \n",
              "2                                    0.258676   \n",
              "3                                    0.257896   \n",
              "4                                    0.182908   \n",
              "...                                       ...   \n",
              "11222                                0.206576   \n",
              "11223                                2.046060   \n",
              "11224                                0.032482   \n",
              "11225                                0.059577   \n",
              "11226                                0.242659   \n",
              "\n",
              "         Daughter2 Fraction of Transverse Momentum   Decay Z (cm)  \\\n",
              "0                                         0.018290     922.789225   \n",
              "1                                         0.033211    1956.384610   \n",
              "2                                         0.027828    1658.001656   \n",
              "3                                         0.020954    1296.531891   \n",
              "4                                         0.006200    1895.434240   \n",
              "...                                            ...            ...   \n",
              "11222                                     0.023167     849.683175   \n",
              "11223                                     0.042265   -1913.212861   \n",
              "11224                                     0.027021   -1333.252734   \n",
              "11225                                     0.111147     548.252039   \n",
              "11226                                     0.044884   -1557.463523   \n",
              "\n",
              "        Decay X (cm)   Decay Y (cm)   DOCA (cm)   Invariant Mass (GeV/c^2)  \\\n",
              "0        -137.921136     -66.582403    0.439903                   0.248842   \n",
              "1        -149.503168     253.562500    0.021048                   0.251024   \n",
              "2        -131.554695     143.058613    0.316012                   0.250642   \n",
              "3        -126.175002     119.782150    1.008086                   0.252356   \n",
              "4          18.136267      44.362398    1.330118                   0.225137   \n",
              "...              ...            ...         ...                        ...   \n",
              "11222      53.071925     -38.957097    4.685299                   0.390602   \n",
              "11223      34.144328      45.911677   31.141839                   1.060403   \n",
              "11224     -17.767887      55.090925    2.092026                   0.226454   \n",
              "11225     -85.098196    -250.383408  456.391190                   1.118049   \n",
              "11226      18.344480      21.590345   12.141207                   0.287947   \n",
              "\n",
              "        Good Reco   Event Type  target  \n",
              "0               1            2     1.0  \n",
              "1               1            2     1.0  \n",
              "2               1            2     1.0  \n",
              "3               1            2     1.0  \n",
              "4               1            2     1.0  \n",
              "...           ...          ...     ...  \n",
              "11222           0            4     0.0  \n",
              "11223           0            4     0.0  \n",
              "11224           0            4     0.0  \n",
              "11225           0            4     0.0  \n",
              "11226           0            4     0.0  \n",
              "\n",
              "[11227 rows x 19 columns]"
            ],
            "text/html": [
              "\n",
              "  <div id=\"df-78a9b115-3221-440e-ad2e-dbabc45fb876\">\n",
              "    <div class=\"colab-df-container\">\n",
              "      <div>\n",
              "<style scoped>\n",
              "    .dataframe tbody tr th:only-of-type {\n",
              "        vertical-align: middle;\n",
              "    }\n",
              "\n",
              "    .dataframe tbody tr th {\n",
              "        vertical-align: top;\n",
              "    }\n",
              "\n",
              "    .dataframe thead th {\n",
              "        text-align: right;\n",
              "    }\n",
              "</style>\n",
              "<table border=\"1\" class=\"dataframe\">\n",
              "  <thead>\n",
              "    <tr style=\"text-align: right;\">\n",
              "      <th></th>\n",
              "      <th>Mother Total Momentum (GeV/c)</th>\n",
              "      <th>Mother Transverse Momentum (GeV/c)</th>\n",
              "      <th>Mother Fraction of Transverse Momentum</th>\n",
              "      <th>Opening Angle (rad)</th>\n",
              "      <th>Impact Parameter (cm)</th>\n",
              "      <th>Daughter1 Total Momentum (GeV/c)</th>\n",
              "      <th>Daughter1 Transverse Momentum (GeV/c)</th>\n",
              "      <th>Daughter1 Fraction of Transverse Momentum</th>\n",
              "      <th>Daughter2 Total Momentum (GeV/c)</th>\n",
              "      <th>Daughter2 Transverse Momentum (GeV/c)</th>\n",
              "      <th>Daughter2 Fraction of Transverse Momentum</th>\n",
              "      <th>Decay Z (cm)</th>\n",
              "      <th>Decay X (cm)</th>\n",
              "      <th>Decay Y (cm)</th>\n",
              "      <th>DOCA (cm)</th>\n",
              "      <th>Invariant Mass (GeV/c^2)</th>\n",
              "      <th>Good Reco</th>\n",
              "      <th>Event Type</th>\n",
              "      <th>target</th>\n",
              "    </tr>\n",
              "  </thead>\n",
              "  <tbody>\n",
              "    <tr>\n",
              "      <th>0</th>\n",
              "      <td>42.745762</td>\n",
              "      <td>0.800400</td>\n",
              "      <td>0.018725</td>\n",
              "      <td>0.005894</td>\n",
              "      <td>0.773719</td>\n",
              "      <td>16.592341</td>\n",
              "      <td>0.330852</td>\n",
              "      <td>0.019940</td>\n",
              "      <td>26.152679</td>\n",
              "      <td>0.478328</td>\n",
              "      <td>0.018290</td>\n",
              "      <td>922.789225</td>\n",
              "      <td>-137.921136</td>\n",
              "      <td>-66.582403</td>\n",
              "      <td>0.439903</td>\n",
              "      <td>0.248842</td>\n",
              "      <td>1</td>\n",
              "      <td>2</td>\n",
              "      <td>1.0</td>\n",
              "    </tr>\n",
              "    <tr>\n",
              "      <th>1</th>\n",
              "      <td>29.026341</td>\n",
              "      <td>0.930226</td>\n",
              "      <td>0.032048</td>\n",
              "      <td>0.009308</td>\n",
              "      <td>1.250690</td>\n",
              "      <td>14.022631</td>\n",
              "      <td>0.441334</td>\n",
              "      <td>0.031473</td>\n",
              "      <td>15.004377</td>\n",
              "      <td>0.498309</td>\n",
              "      <td>0.033211</td>\n",
              "      <td>1956.384610</td>\n",
              "      <td>-149.503168</td>\n",
              "      <td>253.562500</td>\n",
              "      <td>0.021048</td>\n",
              "      <td>0.251024</td>\n",
              "      <td>1</td>\n",
              "      <td>2</td>\n",
              "      <td>1.0</td>\n",
              "    </tr>\n",
              "    <tr>\n",
              "      <th>2</th>\n",
              "      <td>14.294670</td>\n",
              "      <td>0.312241</td>\n",
              "      <td>0.021843</td>\n",
              "      <td>0.017295</td>\n",
              "      <td>1.076186</td>\n",
              "      <td>5.000351</td>\n",
              "      <td>0.054334</td>\n",
              "      <td>0.010866</td>\n",
              "      <td>9.295362</td>\n",
              "      <td>0.258676</td>\n",
              "      <td>0.027828</td>\n",
              "      <td>1658.001656</td>\n",
              "      <td>-131.554695</td>\n",
              "      <td>143.058613</td>\n",
              "      <td>0.316012</td>\n",
              "      <td>0.250642</td>\n",
              "      <td>1</td>\n",
              "      <td>2</td>\n",
              "      <td>1.0</td>\n",
              "    </tr>\n",
              "    <tr>\n",
              "      <th>3</th>\n",
              "      <td>20.148994</td>\n",
              "      <td>0.407327</td>\n",
              "      <td>0.020216</td>\n",
              "      <td>0.013485</td>\n",
              "      <td>4.703193</td>\n",
              "      <td>7.840535</td>\n",
              "      <td>0.169543</td>\n",
              "      <td>0.021624</td>\n",
              "      <td>12.307639</td>\n",
              "      <td>0.257896</td>\n",
              "      <td>0.020954</td>\n",
              "      <td>1296.531891</td>\n",
              "      <td>-126.175002</td>\n",
              "      <td>119.782150</td>\n",
              "      <td>1.008086</td>\n",
              "      <td>0.252356</td>\n",
              "      <td>1</td>\n",
              "      <td>2</td>\n",
              "      <td>1.0</td>\n",
              "    </tr>\n",
              "    <tr>\n",
              "      <th>4</th>\n",
              "      <td>48.389308</td>\n",
              "      <td>0.332335</td>\n",
              "      <td>0.006868</td>\n",
              "      <td>0.002764</td>\n",
              "      <td>15.419832</td>\n",
              "      <td>18.806626</td>\n",
              "      <td>0.155216</td>\n",
              "      <td>0.008253</td>\n",
              "      <td>29.500024</td>\n",
              "      <td>0.182908</td>\n",
              "      <td>0.006200</td>\n",
              "      <td>1895.434240</td>\n",
              "      <td>18.136267</td>\n",
              "      <td>44.362398</td>\n",
              "      <td>1.330118</td>\n",
              "      <td>0.225137</td>\n",
              "      <td>1</td>\n",
              "      <td>2</td>\n",
              "      <td>1.0</td>\n",
              "    </tr>\n",
              "    <tr>\n",
              "      <th>...</th>\n",
              "      <td>...</td>\n",
              "      <td>...</td>\n",
              "      <td>...</td>\n",
              "      <td>...</td>\n",
              "      <td>...</td>\n",
              "      <td>...</td>\n",
              "      <td>...</td>\n",
              "      <td>...</td>\n",
              "      <td>...</td>\n",
              "      <td>...</td>\n",
              "      <td>...</td>\n",
              "      <td>...</td>\n",
              "      <td>...</td>\n",
              "      <td>...</td>\n",
              "      <td>...</td>\n",
              "      <td>...</td>\n",
              "      <td>...</td>\n",
              "      <td>...</td>\n",
              "      <td>...</td>\n",
              "    </tr>\n",
              "    <tr>\n",
              "      <th>11222</th>\n",
              "      <td>22.717393</td>\n",
              "      <td>0.589300</td>\n",
              "      <td>0.025940</td>\n",
              "      <td>0.028874</td>\n",
              "      <td>144.378282</td>\n",
              "      <td>13.808635</td>\n",
              "      <td>0.454155</td>\n",
              "      <td>0.032889</td>\n",
              "      <td>8.916939</td>\n",
              "      <td>0.206576</td>\n",
              "      <td>0.023167</td>\n",
              "      <td>849.683175</td>\n",
              "      <td>53.071925</td>\n",
              "      <td>-38.957097</td>\n",
              "      <td>4.685299</td>\n",
              "      <td>0.390602</td>\n",
              "      <td>0</td>\n",
              "      <td>4</td>\n",
              "      <td>0.0</td>\n",
              "    </tr>\n",
              "    <tr>\n",
              "      <th>11223</th>\n",
              "      <td>50.141742</td>\n",
              "      <td>1.954904</td>\n",
              "      <td>0.038988</td>\n",
              "      <td>0.097525</td>\n",
              "      <td>158.768392</td>\n",
              "      <td>1.717152</td>\n",
              "      <td>0.095789</td>\n",
              "      <td>0.055784</td>\n",
              "      <td>48.410311</td>\n",
              "      <td>2.046060</td>\n",
              "      <td>0.042265</td>\n",
              "      <td>-1913.212861</td>\n",
              "      <td>34.144328</td>\n",
              "      <td>45.911677</td>\n",
              "      <td>31.141839</td>\n",
              "      <td>1.060403</td>\n",
              "      <td>0</td>\n",
              "      <td>4</td>\n",
              "      <td>0.0</td>\n",
              "    </tr>\n",
              "    <tr>\n",
              "      <th>11224</th>\n",
              "      <td>2.728369</td>\n",
              "      <td>0.053609</td>\n",
              "      <td>0.019649</td>\n",
              "      <td>0.057216</td>\n",
              "      <td>144.093834</td>\n",
              "      <td>1.527440</td>\n",
              "      <td>0.060299</td>\n",
              "      <td>0.039477</td>\n",
              "      <td>1.202100</td>\n",
              "      <td>0.032482</td>\n",
              "      <td>0.027021</td>\n",
              "      <td>-1333.252734</td>\n",
              "      <td>-17.767887</td>\n",
              "      <td>55.090925</td>\n",
              "      <td>2.092026</td>\n",
              "      <td>0.226454</td>\n",
              "      <td>0</td>\n",
              "      <td>4</td>\n",
              "      <td>0.0</td>\n",
              "    </tr>\n",
              "    <tr>\n",
              "      <th>11225</th>\n",
              "      <td>25.492041</td>\n",
              "      <td>2.140690</td>\n",
              "      <td>0.083975</td>\n",
              "      <td>0.151294</td>\n",
              "      <td>888.550088</td>\n",
              "      <td>18.261476</td>\n",
              "      <td>1.784403</td>\n",
              "      <td>0.097714</td>\n",
              "      <td>0.536016</td>\n",
              "      <td>0.059577</td>\n",
              "      <td>0.111147</td>\n",
              "      <td>548.252039</td>\n",
              "      <td>-85.098196</td>\n",
              "      <td>-250.383408</td>\n",
              "      <td>456.391190</td>\n",
              "      <td>1.118049</td>\n",
              "      <td>0</td>\n",
              "      <td>4</td>\n",
              "      <td>0.0</td>\n",
              "    </tr>\n",
              "    <tr>\n",
              "      <th>11226</th>\n",
              "      <td>22.350196</td>\n",
              "      <td>0.918840</td>\n",
              "      <td>0.041111</td>\n",
              "      <td>0.015536</td>\n",
              "      <td>254.339205</td>\n",
              "      <td>16.828812</td>\n",
              "      <td>0.690480</td>\n",
              "      <td>0.041030</td>\n",
              "      <td>5.406403</td>\n",
              "      <td>0.242659</td>\n",
              "      <td>0.044884</td>\n",
              "      <td>-1557.463523</td>\n",
              "      <td>18.344480</td>\n",
              "      <td>21.590345</td>\n",
              "      <td>12.141207</td>\n",
              "      <td>0.287947</td>\n",
              "      <td>0</td>\n",
              "      <td>4</td>\n",
              "      <td>0.0</td>\n",
              "    </tr>\n",
              "  </tbody>\n",
              "</table>\n",
              "<p>11227 rows × 19 columns</p>\n",
              "</div>\n",
              "      <button class=\"colab-df-convert\" onclick=\"convertToInteractive('df-78a9b115-3221-440e-ad2e-dbabc45fb876')\"\n",
              "              title=\"Convert this dataframe to an interactive table.\"\n",
              "              style=\"display:none;\">\n",
              "        \n",
              "  <svg xmlns=\"http://www.w3.org/2000/svg\" height=\"24px\"viewBox=\"0 0 24 24\"\n",
              "       width=\"24px\">\n",
              "    <path d=\"M0 0h24v24H0V0z\" fill=\"none\"/>\n",
              "    <path d=\"M18.56 5.44l.94 2.06.94-2.06 2.06-.94-2.06-.94-.94-2.06-.94 2.06-2.06.94zm-11 1L8.5 8.5l.94-2.06 2.06-.94-2.06-.94L8.5 2.5l-.94 2.06-2.06.94zm10 10l.94 2.06.94-2.06 2.06-.94-2.06-.94-.94-2.06-.94 2.06-2.06.94z\"/><path d=\"M17.41 7.96l-1.37-1.37c-.4-.4-.92-.59-1.43-.59-.52 0-1.04.2-1.43.59L10.3 9.45l-7.72 7.72c-.78.78-.78 2.05 0 2.83L4 21.41c.39.39.9.59 1.41.59.51 0 1.02-.2 1.41-.59l7.78-7.78 2.81-2.81c.8-.78.8-2.07 0-2.86zM5.41 20L4 18.59l7.72-7.72 1.47 1.35L5.41 20z\"/>\n",
              "  </svg>\n",
              "      </button>\n",
              "      \n",
              "  <style>\n",
              "    .colab-df-container {\n",
              "      display:flex;\n",
              "      flex-wrap:wrap;\n",
              "      gap: 12px;\n",
              "    }\n",
              "\n",
              "    .colab-df-convert {\n",
              "      background-color: #E8F0FE;\n",
              "      border: none;\n",
              "      border-radius: 50%;\n",
              "      cursor: pointer;\n",
              "      display: none;\n",
              "      fill: #1967D2;\n",
              "      height: 32px;\n",
              "      padding: 0 0 0 0;\n",
              "      width: 32px;\n",
              "    }\n",
              "\n",
              "    .colab-df-convert:hover {\n",
              "      background-color: #E2EBFA;\n",
              "      box-shadow: 0px 1px 2px rgba(60, 64, 67, 0.3), 0px 1px 3px 1px rgba(60, 64, 67, 0.15);\n",
              "      fill: #174EA6;\n",
              "    }\n",
              "\n",
              "    [theme=dark] .colab-df-convert {\n",
              "      background-color: #3B4455;\n",
              "      fill: #D2E3FC;\n",
              "    }\n",
              "\n",
              "    [theme=dark] .colab-df-convert:hover {\n",
              "      background-color: #434B5C;\n",
              "      box-shadow: 0px 1px 3px 1px rgba(0, 0, 0, 0.15);\n",
              "      filter: drop-shadow(0px 1px 2px rgba(0, 0, 0, 0.3));\n",
              "      fill: #FFFFFF;\n",
              "    }\n",
              "  </style>\n",
              "\n",
              "      <script>\n",
              "        const buttonEl =\n",
              "          document.querySelector('#df-78a9b115-3221-440e-ad2e-dbabc45fb876 button.colab-df-convert');\n",
              "        buttonEl.style.display =\n",
              "          google.colab.kernel.accessAllowed ? 'block' : 'none';\n",
              "\n",
              "        async function convertToInteractive(key) {\n",
              "          const element = document.querySelector('#df-78a9b115-3221-440e-ad2e-dbabc45fb876');\n",
              "          const dataTable =\n",
              "            await google.colab.kernel.invokeFunction('convertToInteractive',\n",
              "                                                     [key], {});\n",
              "          if (!dataTable) return;\n",
              "\n",
              "          const docLinkHtml = 'Like what you see? Visit the ' +\n",
              "            '<a target=\"_blank\" href=https://colab.research.google.com/notebooks/data_table.ipynb>data table notebook</a>'\n",
              "            + ' to learn more about interactive tables.';\n",
              "          element.innerHTML = '';\n",
              "          dataTable['output_type'] = 'display_data';\n",
              "          await google.colab.output.renderOutput(dataTable, element);\n",
              "          const docLink = document.createElement('div');\n",
              "          docLink.innerHTML = docLinkHtml;\n",
              "          element.appendChild(docLink);\n",
              "        }\n",
              "      </script>\n",
              "    </div>\n",
              "  </div>\n",
              "  "
            ]
          },
          "metadata": {},
          "execution_count": 9
        }
      ]
    },
    {
      "cell_type": "markdown",
      "metadata": {
        "id": "eWoCy8j8eyCN"
      },
      "source": [
        "## Training options"
      ]
    },
    {
      "cell_type": "markdown",
      "metadata": {
        "id": "-70naN2MeyCO"
      },
      "source": [
        "Training options for a binary separation"
      ]
    },
    {
      "cell_type": "code",
      "metadata": {
        "scrolled": false,
        "id": "vulpJ829eyCO"
      },
      "source": [
        "classModel = \"model0\" #Will define the layout of the network\n",
        "varSet = \"trainFeatures\" #Name of the feature set used, mainly for saving results\n",
        "nSplits = 1 #Number of train/test splits to make during cross-validation\n",
        "ensembleSize = 1 #Number of classifiers  to include in ensemble = min(nSplits, ensembleSize)\n",
        "ensembleMode = 'loss'#accuracy'#'loss' #Metric used to weight classifiers in ensemble\n",
        "#nad=Nadam(0.0001, 0.9, 0.999, 1e-08, 0.004)\n",
        "nad=Nadam(learning_rate=0.0001, beta_1=0.9, beta_2=0.999, epsilon=1e-08)\n",
        "#sgd=SGD(0.001,0.0,0.0,False)\n",
        "sgd=SGD(learning_rate=0.001,momentum=0.9,nesterov=True)\n",
        "#categorical_cross_entropy para várias amostras de sinal\n",
        "compileArgs = {'loss':'binary_crossentropy', \n",
        "               'optimizer':'Adam'}#, 'metrics':['acc']} #Loss function and optimiser for NN\n",
        "trainParams = {'epochs' : 500, \n",
        "               'batch_size' : 100, \n",
        "               'verbose' : 2} #Maximum epochs for training and size of mini-batch"
      ],
      "execution_count": null,
      "outputs": []
    },
    {
      "cell_type": "markdown",
      "metadata": {
        "id": "MQ8_2dISeyCg"
      },
      "source": [
        "## Define classifier"
      ]
    },
    {
      "cell_type": "markdown",
      "metadata": {
        "id": "lKkSD4ZGeyCh"
      },
      "source": [
        "Classifier for the binary separation"
      ]
    },
    {
      "cell_type": "code",
      "metadata": {
        "id": "vZ14T6q0eyCi"
      },
      "source": [
        "\n",
        "def getClassifier(model, nIn, compileArgs):\n",
        "    classModel = Sequential()\n",
        "    depth = None\n",
        "    width = None\n",
        "    if model == \"model0\":\n",
        "        depth = 2\n",
        "        width = 25\n",
        "        step = 5\n",
        "    #classModel.add(Dropout(0.2))\n",
        "    classModel.add(Dense(width, input_shape=(3,), kernel_initializer='normal', activation='relu'))#, kernel_initializer='TruncatedNormal')) #First layer requires number of inputs\n",
        "    classModel.add(Activation('relu')) #Add ReLU activation function\n",
        "    for i in range(depth): #Continue to add hidden layers \n",
        "        width = width-step\n",
        "        print(width)\n",
        "        classModel.add(Dropout(0.05))\n",
        "        classModel.add(Dense(width, kernel_initializer='normal', activation='relu'))#kernel_initializer='TruncatedNormal') #Subsequent layers inherit input_dim from previous layer\n",
        "        #classModel.add(Activation('relu'))\n",
        "    #classModel.add(Dropout(0.2))\n",
        "    classModel.add(Dense(1, kernel_initializer='normal', activation='sigmoid'))#, kernel_initializer='TruncatedNormal')) #Final layer requires one output\n",
        "    #Change this to put a number of neurons equal to the number of categories and change sigmoid to softmax\n",
        "    classModel.compile(**compileArgs) #Compile the network graph to prepare it for use\n",
        "    return classModel"
      ],
      "execution_count": null,
      "outputs": []
    },
    {
      "cell_type": "markdown",
      "metadata": {
        "id": "1LQBpA7geyCD"
      },
      "source": [
        "## Create development and validation samples"
      ]
    },
    {
      "cell_type": "markdown",
      "source": [
        "### Normalize the samples"
      ],
      "metadata": {
        "id": "FKFlYxCt4Qr_"
      }
    },
    {
      "cell_type": "markdown",
      "source": [
        "Before creating the validation and development samples we need to normalize our dataset, since the normalization methods are done in respect to the sample fed to the pipeline. This means that if we select subsamples first and normalize them afterwards, the normalization will be slightly different every time."
      ],
      "metadata": {
        "id": "-gfiIOmr4XYo"
      }
    },
    {
      "cell_type": "markdown",
      "metadata": {
        "id": "S6E-ORPXeyCY"
      },
      "source": [
        "Here we define a SK-Learn pipeline which will contain transformation steps for any data fed in. Pipelines are a nice, compact way of handing data transformations."
      ]
    },
    {
      "cell_type": "code",
      "metadata": {
        "id": "bYUkkyFheyCZ"
      },
      "source": [
        "normIn = True #True #Whether we want to normalise and standardise the inputs\n",
        "pca = True #True #Whether we want to use principal-component analysis to decorrelate inputs\n",
        "whiten = True #True #Whether we want to whiten input data\n",
        "\n",
        "stepsIn = []\n",
        "if not normIn and not pca:\n",
        "    stepsIn.append(('ident', StandardScaler(with_mean=False, with_std=False))) #For compatability\n",
        "else:\n",
        "    if normIn:\n",
        "        stepsIn.append(('normIn', StandardScaler()))\n",
        "    if pca:\n",
        "        stepsIn.append(('pca', PCA(whiten=whiten)))\n",
        "inputPipe = Pipeline(stepsIn)\n",
        "stepsOut = []"
      ],
      "execution_count": null,
      "outputs": []
    },
    {
      "cell_type": "markdown",
      "source": [
        "In order to normalize our data we need to define which variables we want to use in our analysis. We define those in the block below"
      ],
      "metadata": {
        "id": "_q77n341IwRp"
      }
    },
    {
      "cell_type": "code",
      "metadata": {
        "id": "gGK5YfFVeyCJ",
        "colab": {
          "base_uri": "https://localhost:8080/"
        },
        "outputId": "f0b2f32b-487d-4e60-ec17-0e192d58f563"
      },
      "source": [
        "#The columns in the file are separated by \", \" so since this reads it as a .csv file the spaces count in the names\n",
        "\n",
        "trainFeatures = [var for var in FullSignal.columns if str.startswith(var, \"Mother Total\") or str.startswith(var,\" Impact Parameter\") or str.startswith(var,\" DOCA\")]\n",
        "\n",
        "\n",
        "print(trainFeatures)"
      ],
      "execution_count": null,
      "outputs": [
        {
          "output_type": "stream",
          "name": "stdout",
          "text": [
            "['Mother Total Momentum (GeV/c)', ' Impact Parameter (cm)', ' DOCA (cm)']\n"
          ]
        }
      ]
    },
    {
      "cell_type": "markdown",
      "source": [
        "We put the normalized data into NormFullSignal, and only afterwards do we create our test and validation samples\n"
      ],
      "metadata": {
        "id": "bwMpJaGbeyCc"
      }
    },
    {
      "cell_type": "code",
      "source": [
        "#Recall that the output from NormFullSignal is an array (numpy like)\n",
        "NormFullSignal = inputPipe.fit_transform(FullSignal[trainFeatures].values.astype('float32'))\n",
        "\n",
        "#Notice that since we normalized our data and applied a PCA the variables are no longer physical, and also would not have units\n",
        "#However, in order to create a dataframe we need a placeholder name for each column, and this is practical\n",
        "NormFullSignalDF = pandas.DataFrame(NormFullSignal, columns=trainFeatures)\n",
        "\n",
        "#We are using iloc in order to select from event iloc[first_event:last_event,first_column:last_column], \n",
        "NormSignal = NormFullSignalDF.iloc[0:len(Signal),:]\n",
        "NormBackground = NormFullSignalDF.iloc[len(Signal):len(FullSignal),:]"
      ],
      "metadata": {
        "id": "59J7ETP8JdcY"
      },
      "execution_count": null,
      "outputs": []
    },
    {
      "cell_type": "markdown",
      "source": [
        "### Creating the samples to test and validate our NN\n",
        "We look at what data-set has the least events, and select an analogous amount of the other set randomly to avoid bias towards one"
      ],
      "metadata": {
        "id": "OlBiEolaUCJJ"
      }
    },
    {
      "cell_type": "markdown",
      "source": [
        "Here we divide our samples into a 33/33/33 split in order to train with a part of our subset, validate our model with a second part, and test it with an independent third part."
      ],
      "metadata": {
        "id": "YGUl1GSBZIKJ"
      }
    },
    {
      "cell_type": "code",
      "metadata": {
        "id": "-8cJUDcjeyCF",
        "colab": {
          "base_uri": "https://localhost:8080/"
        },
        "outputId": "e33410bc-b5b9-433f-dbb6-f6478d3be81e"
      },
      "source": [
        "# Creates a column that defines the target score that we want to achieve in each data set\n",
        "NormSignal['target'] = 1.0\n",
        "NormBackground['target'] = 0.0\n",
        "\n",
        "# This is a good way of dividing the datasets when they are relatively similar in sizes\n",
        "# We do this twice because first we want to separate the data into a sample for testing\n",
        "# and a sample for training the neural network, and afterwards we want the training\n",
        "# sample to be divided into a subsample that the NN iterates with, and the one that\n",
        "# is used to validate the results\n",
        "Sig_train, Sig_test = \\\n",
        "                train_test_split([i for i in NormSignal.index.tolist()],\n",
        "                                 test_size=0.33, random_state=1337)\n",
        "Back_train, Back_test = \\\n",
        "                train_test_split([i for i in NormBackground.index.tolist()],\n",
        "                                 test_size=0.33, random_state=1337)\n",
        "\n",
        "SigTrain = NormSignal.loc[Sig_train].copy()\n",
        "BackTrain = NormBackground.loc[Back_train].copy()\n",
        "testData = NormSignal.loc[Sig_test].copy()\n",
        "testData = testData.append(NormBackground.loc[Back_test].copy(), ignore_index = True)\n",
        "\n",
        "Sig_dev, Sig_val = \\\n",
        "                train_test_split([i for i in SigTrain.index.tolist()],\n",
        "                                 test_size=0.5, random_state=1337)\n",
        "Back_dev, Back_val = \\\n",
        "                train_test_split([i for i in BackTrain.index.tolist()],\n",
        "                                 test_size=0.5, random_state=1337)\n",
        "\n",
        "devData = SigTrain.loc[Sig_dev].copy()\n",
        "devData = devData.append(BackTrain.loc[Back_dev].copy(), ignore_index = True)\n",
        "valData = SigTrain.loc[Sig_val].copy()\n",
        "valData = valData.append(BackTrain.loc[Back_val].copy(), ignore_index = True)\n",
        "\n",
        "\n",
        "# If you wish to return to this NN, and maintain the same samples defined here\n",
        "# you can write the outputs of the train_test_split() function on to a file\n",
        "# since it saves the index of the event within the pandasdataframe, which should\n",
        "# always be the same (for reproducing accuracy measurements once the NN is trained)\n",
        "\n",
        "# Just printing ou the length of our subsamples to make sure that we got what we wanted\n",
        "print(len(Sig_test))\n",
        "print(len(Back_test))\n",
        "print(len(Sig_dev))\n",
        "print(len(Back_dev))\n",
        "print(len(Sig_val))\n",
        "print(len(Back_val))"
      ],
      "execution_count": null,
      "outputs": [
        {
          "output_type": "stream",
          "name": "stdout",
          "text": [
            "3561\n",
            "145\n",
            "3613\n",
            "147\n",
            "3614\n",
            "147\n"
          ]
        },
        {
          "output_type": "stream",
          "name": "stderr",
          "text": [
            "/usr/local/lib/python3.7/dist-packages/ipykernel_launcher.py:2: SettingWithCopyWarning: \n",
            "A value is trying to be set on a copy of a slice from a DataFrame.\n",
            "Try using .loc[row_indexer,col_indexer] = value instead\n",
            "\n",
            "See the caveats in the documentation: https://pandas.pydata.org/pandas-docs/stable/user_guide/indexing.html#returning-a-view-versus-a-copy\n",
            "  \n",
            "/usr/local/lib/python3.7/dist-packages/ipykernel_launcher.py:3: SettingWithCopyWarning: \n",
            "A value is trying to be set on a copy of a slice from a DataFrame.\n",
            "Try using .loc[row_indexer,col_indexer] = value instead\n",
            "\n",
            "See the caveats in the documentation: https://pandas.pydata.org/pandas-docs/stable/user_guide/indexing.html#returning-a-view-versus-a-copy\n",
            "  This is separate from the ipykernel package so we can avoid doing imports until\n"
          ]
        }
      ]
    },
    {
      "cell_type": "markdown",
      "source": [
        "After all of this, we create the training and validation arrays that will be fed onto the network"
      ],
      "metadata": {
        "id": "aCbuLt5Ke0VW"
      }
    },
    {
      "cell_type": "code",
      "source": [
        "Features1 = [var for var in devData.columns if str.startswith(var, \"target\")]\n",
        "\n",
        "X_class_train = devData[trainFeatures].values.astype('float32')\n",
        "y_class_train = devData[Features1].values.astype('float32')\n",
        "\n",
        "X_class_val = valData[trainFeatures].values.astype('float32')\n",
        "y_class_val = valData[Features1].values.astype('float32') \n",
        "\n",
        "X_class_test = testData[trainFeatures].values.astype('float32')\n",
        "y_class_test = testData[Features1].values.astype('float32')\n",
        "\n",
        "#print(trainFeatures)\n",
        "#print(Features1)\n",
        "#devData"
      ],
      "metadata": {
        "id": "zXuSYqnYItBV"
      },
      "execution_count": null,
      "outputs": []
    },
    {
      "cell_type": "markdown",
      "metadata": {
        "id": "O7dATXd3eyCv"
      },
      "source": [
        "## Callbacks"
      ]
    },
    {
      "cell_type": "markdown",
      "metadata": {
        "id": "7fvFcltyeyCw"
      },
      "source": [
        "Callbacks are methods that can be called during training. They have a variety of uses such as monitoring training, stopping training early, and saving different versions of the model. Here we define our own callback,  which saves the history of the training.\n",
        "\n",
        "We want to view the history of the model's performance on the training and testing data during data, however by default the training loss is averaged over the epoch, and the test loss is evaluated at the end of the epoch, so is not comparable. This modified version evaluates the performance on the training data at the end of each epoch.\n",
        "\n",
        "Later well also use some other callbacks:\n",
        "\n",
        "EarlyStopping monitors a specified metric and stops the training if the performance fails to improve for a specified number of epochs in a row. Here we use it to monitor the loss on the test data and stop when it doesn't improve after 10 epochs.\n",
        "\n",
        "ModelCheckpoint is used to save the weights of the network during training. It's quite flexible, but here we use it save the model which performs best according to the loss in test data.\n",
        "\n",
        "Normally during training, the test loss will reach a minimum and either saturate or start to increase (overtraining). The training loss will normally either saturate or continue to decrease. The optimum point is when the test-loss first reaches its minimum point. The combination of EarlyStopping and ModelCheckpoint acts to save the model at this point and allow some leeway in case it starts to decrease again."
      ]
    },
    {
      "cell_type": "code",
      "metadata": {
        "id": "MK8hziRneyCx"
      },
      "source": [
        "class LossHistory(Callback):\n",
        "    def __init__(self, trData):\n",
        "        self.trainingData = trData\n",
        "    def on_train_begin(self, logs={}):\n",
        "        self.losses = {}\n",
        "        self.losses['loss'] = []\n",
        "        self.losses['val_loss'] = []\n",
        "\n",
        "    def on_epoch_end(self, epoch, logs={}):\n",
        "        self.losses['loss'].append(self.model.evaluate(self.trainingData[0], self.trainingData[1], verbose=0))\n",
        "        self.losses['val_loss'].append(logs.get('val_loss'))"
      ],
      "execution_count": null,
      "outputs": []
    },
    {
      "cell_type": "code",
      "metadata": {
        "id": "I3m-arbYeyC4"
      },
      "source": [
        "class EarlyStoppingByLossVal(Callback):\n",
        "    def __init__(self, monitor='val_loss', value=0.00001, verbose=0):\n",
        "        super(Callback, self).__init__()\n",
        "        self.monitor = monitor\n",
        "        self.value = value\n",
        "        self.verbose = verbose\n",
        "\n",
        "    def on_epoch_end(self, epoch, logs={}):\n",
        "        current = logs.get(self.monitor)\n",
        "        if current is None:\n",
        "            warnings.warn(\"Early stopping requires %s available!\" % self.monitor, RuntimeWarning)\n",
        "\n",
        "        if current < self.value:\n",
        "            if self.verbose > 0:\n",
        "                print(\"Epoch %05d: early stopping THR\" % epoch)\n",
        "            self.model.stop_training = True"
      ],
      "execution_count": null,
      "outputs": []
    },
    {
      "cell_type": "markdown",
      "metadata": {
        "id": "srxfRpDceyC9"
      },
      "source": [
        "## Train classifier"
      ]
    },
    {
      "cell_type": "code",
      "metadata": {
        "id": "ONAYifAzeyC-",
        "colab": {
          "base_uri": "https://localhost:8080/"
        },
        "outputId": "4c170283-0474-4983-84b9-905d56759a88"
      },
      "source": [
        "classTrainFeatures = trainFeatures #The features used\n",
        "print(\"Training on {} features {}\". format(len(classTrainFeatures),[var for var in classTrainFeatures]))\n",
        "\n",
        "#W_final = np.array(W)\n",
        "\n",
        "start = timeit.default_timer()\n",
        "\n",
        "results = []\n",
        "histories = []\n",
        "\n",
        "#Here you should put the directory in your pc where you will save the weight files for the NNs\n",
        "#Be mindfull to always keep track of which folder corresponds to which NN that you have tried\n",
        "#and to always change the name of the folder when you train a NN so as to not overwrite\n",
        "#previous results. I have heard stories of people that lost their whole thesis work like that\n",
        "os.chdir('/content/drive/MyDrive/Colab Notebooks/LIP Mini-school/ML_Weights')\n",
        "\n",
        "os.system(\"mkdir train_weights\")\n",
        "os.system(\"rm train_weights/*.h5\")\n",
        "os.system(\"rm train_weights/*.json\")\n",
        "os.system(\"rm train_weights/*.pkl\")\n",
        "\n",
        "model = None # Clearing the NN\n",
        "model = getClassifier(classModel, len(classTrainFeatures), compileArgs)\n",
        "#model.reset_states #Just checking\n",
        "    \n",
        "lossHistory = LossHistory((X_class_train, y_class_train))\n",
        "earlyStop = EarlyStopping(monitor='val_loss', patience=500, verbose=1, mode='auto')\n",
        "saveBest = ModelCheckpoint(\"train_weights/best.h5\", monitor='val_loss', verbose=0, \n",
        "                            save_best_only=True, save_weights_only=True, mode='auto', period=1)\n",
        "    \n",
        "#Begin training the model\n",
        "C = model.fit(X_class_train, y_class_train, validation_data = (X_class_val, y_class_val), callbacks = [earlyStop, saveBest, lossHistory], **trainParams)\n",
        "    \n",
        "histories.append(lossHistory.losses) #Saves the loss history from callback\n",
        "model.load_weights(\"train_weights/best.h5\") #Loads the best model saved by ModelCheckpoint\n",
        "       \n",
        "results.append({})\n",
        "    \n",
        "results[-1]['loss'] = model.evaluate(X_class_val, y_class_val, verbose=0) #Gets loss on test data\n",
        "#results[-1]['AUC'] = 1-roc_auc_score(y_class_val, model.predict(X_class_val, verbose=0)) #Gets ROC AUC for test data\n",
        " \n",
        "#print(\"Score is:\", results[-1])\n",
        "    \n",
        "model.save('train_weights/train.h5') #Save the model\n",
        "\n",
        "with open('train_weights/resultsFile.pkl', 'wb') as fout: #Save results\n",
        "    cPickle.dump(results, fout)\n",
        "\n",
        "print(\"Cross-validation took {:.3f}s \".format(timeit.default_timer() - start))\n",
        "\n",
        "model.summary() #Prints a summary of the model layout\n",
        "model = None\n",
        "\n"
      ],
      "execution_count": null,
      "outputs": [
        {
          "output_type": "stream",
          "name": "stdout",
          "text": [
            "Training on 3 features ['Mother Total Momentum (GeV/c)', ' Impact Parameter (cm)', ' DOCA (cm)']\n",
            "20\n",
            "15\n",
            "WARNING:tensorflow:`period` argument is deprecated. Please use `save_freq` to specify the frequency in number of batches seen.\n",
            "Epoch 1/500\n",
            "38/38 - 2s - loss: 0.6775 - val_loss: 0.6512 - 2s/epoch - 53ms/step\n",
            "Epoch 2/500\n",
            "38/38 - 1s - loss: 0.5700 - val_loss: 0.4204 - 676ms/epoch - 18ms/step\n",
            "Epoch 3/500\n",
            "38/38 - 1s - loss: 0.2255 - val_loss: 0.0799 - 698ms/epoch - 18ms/step\n",
            "Epoch 4/500\n",
            "38/38 - 1s - loss: 0.0518 - val_loss: 0.0348 - 970ms/epoch - 26ms/step\n",
            "Epoch 5/500\n",
            "38/38 - 1s - loss: 0.0309 - val_loss: 0.0245 - 668ms/epoch - 18ms/step\n",
            "Epoch 6/500\n",
            "38/38 - 1s - loss: 0.0248 - val_loss: 0.0216 - 645ms/epoch - 17ms/step\n",
            "Epoch 7/500\n",
            "38/38 - 0s - loss: 0.0238 - val_loss: 0.0204 - 363ms/epoch - 10ms/step\n",
            "Epoch 8/500\n",
            "38/38 - 0s - loss: 0.0230 - val_loss: 0.0197 - 344ms/epoch - 9ms/step\n",
            "Epoch 9/500\n",
            "38/38 - 0s - loss: 0.0225 - val_loss: 0.0194 - 388ms/epoch - 10ms/step\n",
            "Epoch 10/500\n",
            "38/38 - 0s - loss: 0.0216 - val_loss: 0.0190 - 392ms/epoch - 10ms/step\n",
            "Epoch 11/500\n",
            "38/38 - 0s - loss: 0.0213 - val_loss: 0.0190 - 332ms/epoch - 9ms/step\n",
            "Epoch 12/500\n",
            "38/38 - 0s - loss: 0.0216 - val_loss: 0.0191 - 336ms/epoch - 9ms/step\n",
            "Epoch 13/500\n",
            "38/38 - 0s - loss: 0.0213 - val_loss: 0.0191 - 308ms/epoch - 8ms/step\n",
            "Epoch 14/500\n",
            "38/38 - 0s - loss: 0.0202 - val_loss: 0.0187 - 375ms/epoch - 10ms/step\n",
            "Epoch 15/500\n",
            "38/38 - 0s - loss: 0.0203 - val_loss: 0.0188 - 341ms/epoch - 9ms/step\n",
            "Epoch 16/500\n",
            "38/38 - 1s - loss: 0.0205 - val_loss: 0.0188 - 746ms/epoch - 20ms/step\n",
            "Epoch 17/500\n",
            "38/38 - 0s - loss: 0.0209 - val_loss: 0.0187 - 387ms/epoch - 10ms/step\n",
            "Epoch 18/500\n",
            "38/38 - 0s - loss: 0.0200 - val_loss: 0.0187 - 382ms/epoch - 10ms/step\n",
            "Epoch 19/500\n",
            "38/38 - 0s - loss: 0.0197 - val_loss: 0.0187 - 326ms/epoch - 9ms/step\n",
            "Epoch 20/500\n",
            "38/38 - 0s - loss: 0.0200 - val_loss: 0.0187 - 358ms/epoch - 9ms/step\n",
            "Epoch 21/500\n",
            "38/38 - 0s - loss: 0.0193 - val_loss: 0.0187 - 331ms/epoch - 9ms/step\n",
            "Epoch 22/500\n",
            "38/38 - 0s - loss: 0.0203 - val_loss: 0.0191 - 331ms/epoch - 9ms/step\n",
            "Epoch 23/500\n",
            "38/38 - 0s - loss: 0.0195 - val_loss: 0.0188 - 330ms/epoch - 9ms/step\n",
            "Epoch 24/500\n",
            "38/38 - 0s - loss: 0.0200 - val_loss: 0.0187 - 353ms/epoch - 9ms/step\n",
            "Epoch 25/500\n",
            "38/38 - 0s - loss: 0.0197 - val_loss: 0.0185 - 373ms/epoch - 10ms/step\n",
            "Epoch 26/500\n",
            "38/38 - 0s - loss: 0.0198 - val_loss: 0.0185 - 332ms/epoch - 9ms/step\n",
            "Epoch 27/500\n",
            "38/38 - 0s - loss: 0.0187 - val_loss: 0.0186 - 334ms/epoch - 9ms/step\n",
            "Epoch 28/500\n",
            "38/38 - 0s - loss: 0.0199 - val_loss: 0.0186 - 317ms/epoch - 8ms/step\n",
            "Epoch 29/500\n",
            "38/38 - 0s - loss: 0.0194 - val_loss: 0.0188 - 352ms/epoch - 9ms/step\n",
            "Epoch 30/500\n",
            "38/38 - 0s - loss: 0.0197 - val_loss: 0.0186 - 370ms/epoch - 10ms/step\n",
            "Epoch 31/500\n",
            "38/38 - 0s - loss: 0.0205 - val_loss: 0.0188 - 360ms/epoch - 9ms/step\n",
            "Epoch 32/500\n",
            "38/38 - 0s - loss: 0.0195 - val_loss: 0.0186 - 345ms/epoch - 9ms/step\n",
            "Epoch 33/500\n",
            "38/38 - 0s - loss: 0.0197 - val_loss: 0.0182 - 348ms/epoch - 9ms/step\n",
            "Epoch 34/500\n",
            "38/38 - 0s - loss: 0.0193 - val_loss: 0.0184 - 337ms/epoch - 9ms/step\n",
            "Epoch 35/500\n",
            "38/38 - 0s - loss: 0.0193 - val_loss: 0.0184 - 308ms/epoch - 8ms/step\n",
            "Epoch 36/500\n",
            "38/38 - 0s - loss: 0.0198 - val_loss: 0.0184 - 362ms/epoch - 10ms/step\n",
            "Epoch 37/500\n",
            "38/38 - 0s - loss: 0.0195 - val_loss: 0.0184 - 334ms/epoch - 9ms/step\n",
            "Epoch 38/500\n",
            "38/38 - 0s - loss: 0.0199 - val_loss: 0.0184 - 328ms/epoch - 9ms/step\n",
            "Epoch 39/500\n",
            "38/38 - 0s - loss: 0.0192 - val_loss: 0.0185 - 345ms/epoch - 9ms/step\n",
            "Epoch 40/500\n",
            "38/38 - 0s - loss: 0.0191 - val_loss: 0.0185 - 341ms/epoch - 9ms/step\n",
            "Epoch 41/500\n",
            "38/38 - 0s - loss: 0.0190 - val_loss: 0.0186 - 329ms/epoch - 9ms/step\n",
            "Epoch 42/500\n",
            "38/38 - 0s - loss: 0.0194 - val_loss: 0.0185 - 362ms/epoch - 10ms/step\n",
            "Epoch 43/500\n",
            "38/38 - 0s - loss: 0.0198 - val_loss: 0.0183 - 378ms/epoch - 10ms/step\n",
            "Epoch 44/500\n",
            "38/38 - 0s - loss: 0.0195 - val_loss: 0.0185 - 320ms/epoch - 8ms/step\n",
            "Epoch 45/500\n",
            "38/38 - 0s - loss: 0.0193 - val_loss: 0.0185 - 323ms/epoch - 8ms/step\n",
            "Epoch 46/500\n",
            "38/38 - 0s - loss: 0.0190 - val_loss: 0.0184 - 347ms/epoch - 9ms/step\n",
            "Epoch 47/500\n",
            "38/38 - 0s - loss: 0.0195 - val_loss: 0.0185 - 327ms/epoch - 9ms/step\n",
            "Epoch 48/500\n",
            "38/38 - 0s - loss: 0.0189 - val_loss: 0.0186 - 334ms/epoch - 9ms/step\n",
            "Epoch 49/500\n",
            "38/38 - 0s - loss: 0.0187 - val_loss: 0.0184 - 350ms/epoch - 9ms/step\n",
            "Epoch 50/500\n",
            "38/38 - 0s - loss: 0.0191 - val_loss: 0.0184 - 358ms/epoch - 9ms/step\n",
            "Epoch 51/500\n",
            "38/38 - 0s - loss: 0.0191 - val_loss: 0.0184 - 353ms/epoch - 9ms/step\n",
            "Epoch 52/500\n",
            "38/38 - 0s - loss: 0.0187 - val_loss: 0.0185 - 372ms/epoch - 10ms/step\n",
            "Epoch 53/500\n",
            "38/38 - 0s - loss: 0.0182 - val_loss: 0.0181 - 339ms/epoch - 9ms/step\n",
            "Epoch 54/500\n",
            "38/38 - 0s - loss: 0.0191 - val_loss: 0.0184 - 348ms/epoch - 9ms/step\n",
            "Epoch 55/500\n",
            "38/38 - 0s - loss: 0.0185 - val_loss: 0.0182 - 334ms/epoch - 9ms/step\n",
            "Epoch 56/500\n",
            "38/38 - 0s - loss: 0.0189 - val_loss: 0.0183 - 308ms/epoch - 8ms/step\n",
            "Epoch 57/500\n",
            "38/38 - 0s - loss: 0.0191 - val_loss: 0.0185 - 331ms/epoch - 9ms/step\n",
            "Epoch 58/500\n",
            "38/38 - 0s - loss: 0.0189 - val_loss: 0.0184 - 349ms/epoch - 9ms/step\n",
            "Epoch 59/500\n",
            "38/38 - 0s - loss: 0.0192 - val_loss: 0.0185 - 322ms/epoch - 8ms/step\n",
            "Epoch 60/500\n",
            "38/38 - 0s - loss: 0.0194 - val_loss: 0.0184 - 340ms/epoch - 9ms/step\n",
            "Epoch 61/500\n",
            "38/38 - 0s - loss: 0.0186 - val_loss: 0.0184 - 347ms/epoch - 9ms/step\n",
            "Epoch 62/500\n",
            "38/38 - 0s - loss: 0.0186 - val_loss: 0.0185 - 321ms/epoch - 8ms/step\n",
            "Epoch 63/500\n",
            "38/38 - 0s - loss: 0.0185 - val_loss: 0.0186 - 305ms/epoch - 8ms/step\n",
            "Epoch 64/500\n",
            "38/38 - 0s - loss: 0.0179 - val_loss: 0.0183 - 326ms/epoch - 9ms/step\n",
            "Epoch 65/500\n",
            "38/38 - 0s - loss: 0.0186 - val_loss: 0.0184 - 328ms/epoch - 9ms/step\n",
            "Epoch 66/500\n",
            "38/38 - 0s - loss: 0.0183 - val_loss: 0.0182 - 331ms/epoch - 9ms/step\n",
            "Epoch 67/500\n",
            "38/38 - 0s - loss: 0.0187 - val_loss: 0.0184 - 333ms/epoch - 9ms/step\n",
            "Epoch 68/500\n",
            "38/38 - 0s - loss: 0.0179 - val_loss: 0.0182 - 323ms/epoch - 8ms/step\n",
            "Epoch 69/500\n",
            "38/38 - 0s - loss: 0.0189 - val_loss: 0.0184 - 353ms/epoch - 9ms/step\n",
            "Epoch 70/500\n",
            "38/38 - 0s - loss: 0.0190 - val_loss: 0.0183 - 336ms/epoch - 9ms/step\n",
            "Epoch 71/500\n",
            "38/38 - 0s - loss: 0.0178 - val_loss: 0.0180 - 342ms/epoch - 9ms/step\n",
            "Epoch 72/500\n",
            "38/38 - 0s - loss: 0.0182 - val_loss: 0.0180 - 325ms/epoch - 9ms/step\n",
            "Epoch 73/500\n",
            "38/38 - 0s - loss: 0.0179 - val_loss: 0.0181 - 344ms/epoch - 9ms/step\n",
            "Epoch 74/500\n",
            "38/38 - 0s - loss: 0.0179 - val_loss: 0.0181 - 326ms/epoch - 9ms/step\n",
            "Epoch 75/500\n",
            "38/38 - 0s - loss: 0.0186 - val_loss: 0.0181 - 313ms/epoch - 8ms/step\n",
            "Epoch 76/500\n",
            "38/38 - 0s - loss: 0.0182 - val_loss: 0.0181 - 362ms/epoch - 10ms/step\n",
            "Epoch 77/500\n",
            "38/38 - 0s - loss: 0.0177 - val_loss: 0.0180 - 325ms/epoch - 9ms/step\n",
            "Epoch 78/500\n",
            "38/38 - 0s - loss: 0.0185 - val_loss: 0.0182 - 287ms/epoch - 8ms/step\n",
            "Epoch 79/500\n",
            "38/38 - 0s - loss: 0.0185 - val_loss: 0.0182 - 343ms/epoch - 9ms/step\n",
            "Epoch 80/500\n",
            "38/38 - 0s - loss: 0.0186 - val_loss: 0.0175 - 367ms/epoch - 10ms/step\n",
            "Epoch 81/500\n",
            "38/38 - 0s - loss: 0.0179 - val_loss: 0.0178 - 309ms/epoch - 8ms/step\n",
            "Epoch 82/500\n",
            "38/38 - 0s - loss: 0.0177 - val_loss: 0.0176 - 322ms/epoch - 8ms/step\n",
            "Epoch 83/500\n",
            "38/38 - 0s - loss: 0.0183 - val_loss: 0.0179 - 322ms/epoch - 8ms/step\n",
            "Epoch 84/500\n",
            "38/38 - 0s - loss: 0.0186 - val_loss: 0.0177 - 356ms/epoch - 9ms/step\n",
            "Epoch 85/500\n",
            "38/38 - 0s - loss: 0.0176 - val_loss: 0.0177 - 311ms/epoch - 8ms/step\n",
            "Epoch 86/500\n",
            "38/38 - 0s - loss: 0.0186 - val_loss: 0.0175 - 335ms/epoch - 9ms/step\n",
            "Epoch 87/500\n",
            "38/38 - 0s - loss: 0.0182 - val_loss: 0.0176 - 330ms/epoch - 9ms/step\n",
            "Epoch 88/500\n",
            "38/38 - 0s - loss: 0.0179 - val_loss: 0.0175 - 343ms/epoch - 9ms/step\n",
            "Epoch 89/500\n",
            "38/38 - 0s - loss: 0.0183 - val_loss: 0.0176 - 317ms/epoch - 8ms/step\n",
            "Epoch 90/500\n",
            "38/38 - 0s - loss: 0.0185 - val_loss: 0.0174 - 365ms/epoch - 10ms/step\n",
            "Epoch 91/500\n",
            "38/38 - 0s - loss: 0.0175 - val_loss: 0.0176 - 333ms/epoch - 9ms/step\n",
            "Epoch 92/500\n",
            "38/38 - 0s - loss: 0.0175 - val_loss: 0.0177 - 346ms/epoch - 9ms/step\n",
            "Epoch 93/500\n",
            "38/38 - 0s - loss: 0.0175 - val_loss: 0.0179 - 317ms/epoch - 8ms/step\n",
            "Epoch 94/500\n",
            "38/38 - 0s - loss: 0.0182 - val_loss: 0.0180 - 320ms/epoch - 8ms/step\n",
            "Epoch 95/500\n",
            "38/38 - 0s - loss: 0.0178 - val_loss: 0.0179 - 325ms/epoch - 9ms/step\n",
            "Epoch 96/500\n",
            "38/38 - 0s - loss: 0.0174 - val_loss: 0.0176 - 317ms/epoch - 8ms/step\n",
            "Epoch 97/500\n",
            "38/38 - 0s - loss: 0.0188 - val_loss: 0.0176 - 366ms/epoch - 10ms/step\n",
            "Epoch 98/500\n",
            "38/38 - 0s - loss: 0.0175 - val_loss: 0.0176 - 317ms/epoch - 8ms/step\n",
            "Epoch 99/500\n",
            "38/38 - 0s - loss: 0.0177 - val_loss: 0.0182 - 350ms/epoch - 9ms/step\n",
            "Epoch 100/500\n",
            "38/38 - 1s - loss: 0.0179 - val_loss: 0.0179 - 1s/epoch - 27ms/step\n",
            "Epoch 101/500\n",
            "38/38 - 1s - loss: 0.0178 - val_loss: 0.0178 - 764ms/epoch - 20ms/step\n",
            "Epoch 102/500\n",
            "38/38 - 0s - loss: 0.0177 - val_loss: 0.0178 - 316ms/epoch - 8ms/step\n",
            "Epoch 103/500\n",
            "38/38 - 0s - loss: 0.0180 - val_loss: 0.0177 - 308ms/epoch - 8ms/step\n",
            "Epoch 104/500\n",
            "38/38 - 0s - loss: 0.0183 - val_loss: 0.0184 - 320ms/epoch - 8ms/step\n",
            "Epoch 105/500\n",
            "38/38 - 0s - loss: 0.0178 - val_loss: 0.0179 - 316ms/epoch - 8ms/step\n",
            "Epoch 106/500\n",
            "38/38 - 0s - loss: 0.0181 - val_loss: 0.0178 - 369ms/epoch - 10ms/step\n",
            "Epoch 107/500\n",
            "38/38 - 0s - loss: 0.0174 - val_loss: 0.0178 - 351ms/epoch - 9ms/step\n",
            "Epoch 108/500\n",
            "38/38 - 0s - loss: 0.0174 - val_loss: 0.0178 - 333ms/epoch - 9ms/step\n",
            "Epoch 109/500\n",
            "38/38 - 0s - loss: 0.0180 - val_loss: 0.0180 - 327ms/epoch - 9ms/step\n",
            "Epoch 110/500\n",
            "38/38 - 0s - loss: 0.0171 - val_loss: 0.0182 - 321ms/epoch - 8ms/step\n",
            "Epoch 111/500\n",
            "38/38 - 0s - loss: 0.0176 - val_loss: 0.0183 - 342ms/epoch - 9ms/step\n",
            "Epoch 112/500\n",
            "38/38 - 0s - loss: 0.0176 - val_loss: 0.0181 - 329ms/epoch - 9ms/step\n",
            "Epoch 113/500\n",
            "38/38 - 0s - loss: 0.0174 - val_loss: 0.0184 - 346ms/epoch - 9ms/step\n",
            "Epoch 114/500\n",
            "38/38 - 0s - loss: 0.0182 - val_loss: 0.0183 - 353ms/epoch - 9ms/step\n",
            "Epoch 115/500\n",
            "38/38 - 0s - loss: 0.0180 - val_loss: 0.0186 - 354ms/epoch - 9ms/step\n",
            "Epoch 116/500\n",
            "38/38 - 0s - loss: 0.0182 - val_loss: 0.0183 - 317ms/epoch - 8ms/step\n",
            "Epoch 117/500\n",
            "38/38 - 0s - loss: 0.0171 - val_loss: 0.0184 - 322ms/epoch - 8ms/step\n",
            "Epoch 118/500\n",
            "38/38 - 0s - loss: 0.0174 - val_loss: 0.0181 - 345ms/epoch - 9ms/step\n",
            "Epoch 119/500\n",
            "38/38 - 0s - loss: 0.0176 - val_loss: 0.0183 - 336ms/epoch - 9ms/step\n",
            "Epoch 120/500\n",
            "38/38 - 0s - loss: 0.0171 - val_loss: 0.0184 - 349ms/epoch - 9ms/step\n",
            "Epoch 121/500\n",
            "38/38 - 0s - loss: 0.0170 - val_loss: 0.0186 - 358ms/epoch - 9ms/step\n",
            "Epoch 122/500\n",
            "38/38 - 0s - loss: 0.0176 - val_loss: 0.0186 - 319ms/epoch - 8ms/step\n",
            "Epoch 123/500\n",
            "38/38 - 0s - loss: 0.0171 - val_loss: 0.0183 - 350ms/epoch - 9ms/step\n",
            "Epoch 124/500\n",
            "38/38 - 0s - loss: 0.0172 - val_loss: 0.0183 - 364ms/epoch - 10ms/step\n",
            "Epoch 125/500\n",
            "38/38 - 0s - loss: 0.0178 - val_loss: 0.0184 - 330ms/epoch - 9ms/step\n",
            "Epoch 126/500\n",
            "38/38 - 0s - loss: 0.0169 - val_loss: 0.0188 - 333ms/epoch - 9ms/step\n",
            "Epoch 127/500\n",
            "38/38 - 0s - loss: 0.0175 - val_loss: 0.0188 - 340ms/epoch - 9ms/step\n",
            "Epoch 128/500\n",
            "38/38 - 0s - loss: 0.0173 - val_loss: 0.0187 - 313ms/epoch - 8ms/step\n",
            "Epoch 129/500\n",
            "38/38 - 0s - loss: 0.0172 - val_loss: 0.0186 - 327ms/epoch - 9ms/step\n",
            "Epoch 130/500\n",
            "38/38 - 0s - loss: 0.0176 - val_loss: 0.0192 - 340ms/epoch - 9ms/step\n",
            "Epoch 131/500\n",
            "38/38 - 0s - loss: 0.0170 - val_loss: 0.0189 - 363ms/epoch - 10ms/step\n",
            "Epoch 132/500\n",
            "38/38 - 0s - loss: 0.0166 - val_loss: 0.0187 - 351ms/epoch - 9ms/step\n",
            "Epoch 133/500\n",
            "38/38 - 0s - loss: 0.0168 - val_loss: 0.0185 - 324ms/epoch - 9ms/step\n",
            "Epoch 134/500\n",
            "38/38 - 0s - loss: 0.0179 - val_loss: 0.0194 - 329ms/epoch - 9ms/step\n",
            "Epoch 135/500\n",
            "38/38 - 0s - loss: 0.0177 - val_loss: 0.0192 - 358ms/epoch - 9ms/step\n",
            "Epoch 136/500\n",
            "38/38 - 0s - loss: 0.0166 - val_loss: 0.0192 - 369ms/epoch - 10ms/step\n",
            "Epoch 137/500\n",
            "38/38 - 0s - loss: 0.0170 - val_loss: 0.0185 - 331ms/epoch - 9ms/step\n",
            "Epoch 138/500\n",
            "38/38 - 0s - loss: 0.0169 - val_loss: 0.0187 - 325ms/epoch - 9ms/step\n",
            "Epoch 139/500\n",
            "38/38 - 0s - loss: 0.0172 - val_loss: 0.0185 - 310ms/epoch - 8ms/step\n",
            "Epoch 140/500\n",
            "38/38 - 0s - loss: 0.0167 - val_loss: 0.0189 - 289ms/epoch - 8ms/step\n",
            "Epoch 141/500\n",
            "38/38 - 0s - loss: 0.0176 - val_loss: 0.0186 - 323ms/epoch - 8ms/step\n",
            "Epoch 142/500\n",
            "38/38 - 0s - loss: 0.0173 - val_loss: 0.0184 - 328ms/epoch - 9ms/step\n",
            "Epoch 143/500\n",
            "38/38 - 0s - loss: 0.0169 - val_loss: 0.0186 - 319ms/epoch - 8ms/step\n",
            "Epoch 144/500\n",
            "38/38 - 0s - loss: 0.0165 - val_loss: 0.0186 - 343ms/epoch - 9ms/step\n",
            "Epoch 145/500\n",
            "38/38 - 0s - loss: 0.0172 - val_loss: 0.0187 - 329ms/epoch - 9ms/step\n",
            "Epoch 146/500\n",
            "38/38 - 0s - loss: 0.0169 - val_loss: 0.0187 - 359ms/epoch - 9ms/step\n",
            "Epoch 147/500\n",
            "38/38 - 0s - loss: 0.0172 - val_loss: 0.0184 - 332ms/epoch - 9ms/step\n",
            "Epoch 148/500\n",
            "38/38 - 0s - loss: 0.0168 - val_loss: 0.0185 - 355ms/epoch - 9ms/step\n",
            "Epoch 149/500\n",
            "38/38 - 0s - loss: 0.0166 - val_loss: 0.0185 - 330ms/epoch - 9ms/step\n",
            "Epoch 150/500\n",
            "38/38 - 0s - loss: 0.0171 - val_loss: 0.0185 - 335ms/epoch - 9ms/step\n",
            "Epoch 151/500\n",
            "38/38 - 0s - loss: 0.0169 - val_loss: 0.0189 - 362ms/epoch - 10ms/step\n",
            "Epoch 152/500\n",
            "38/38 - 0s - loss: 0.0169 - val_loss: 0.0192 - 334ms/epoch - 9ms/step\n",
            "Epoch 153/500\n",
            "38/38 - 0s - loss: 0.0168 - val_loss: 0.0185 - 384ms/epoch - 10ms/step\n",
            "Epoch 154/500\n",
            "38/38 - 0s - loss: 0.0163 - val_loss: 0.0185 - 333ms/epoch - 9ms/step\n",
            "Epoch 155/500\n",
            "38/38 - 0s - loss: 0.0164 - val_loss: 0.0186 - 289ms/epoch - 8ms/step\n",
            "Epoch 156/500\n",
            "38/38 - 0s - loss: 0.0167 - val_loss: 0.0187 - 347ms/epoch - 9ms/step\n",
            "Epoch 157/500\n",
            "38/38 - 0s - loss: 0.0165 - val_loss: 0.0189 - 346ms/epoch - 9ms/step\n",
            "Epoch 158/500\n",
            "38/38 - 0s - loss: 0.0170 - val_loss: 0.0188 - 290ms/epoch - 8ms/step\n",
            "Epoch 159/500\n",
            "38/38 - 0s - loss: 0.0159 - val_loss: 0.0193 - 352ms/epoch - 9ms/step\n",
            "Epoch 160/500\n",
            "38/38 - 0s - loss: 0.0169 - val_loss: 0.0196 - 325ms/epoch - 9ms/step\n",
            "Epoch 161/500\n",
            "38/38 - 0s - loss: 0.0163 - val_loss: 0.0191 - 350ms/epoch - 9ms/step\n",
            "Epoch 162/500\n",
            "38/38 - 0s - loss: 0.0173 - val_loss: 0.0194 - 342ms/epoch - 9ms/step\n",
            "Epoch 163/500\n",
            "38/38 - 0s - loss: 0.0164 - val_loss: 0.0194 - 324ms/epoch - 9ms/step\n",
            "Epoch 164/500\n",
            "38/38 - 0s - loss: 0.0168 - val_loss: 0.0194 - 320ms/epoch - 8ms/step\n",
            "Epoch 165/500\n",
            "38/38 - 0s - loss: 0.0170 - val_loss: 0.0192 - 321ms/epoch - 8ms/step\n",
            "Epoch 166/500\n",
            "38/38 - 0s - loss: 0.0166 - val_loss: 0.0193 - 368ms/epoch - 10ms/step\n",
            "Epoch 167/500\n",
            "38/38 - 0s - loss: 0.0171 - val_loss: 0.0196 - 314ms/epoch - 8ms/step\n",
            "Epoch 168/500\n",
            "38/38 - 0s - loss: 0.0163 - val_loss: 0.0198 - 312ms/epoch - 8ms/step\n",
            "Epoch 169/500\n",
            "38/38 - 0s - loss: 0.0171 - val_loss: 0.0198 - 362ms/epoch - 10ms/step\n",
            "Epoch 170/500\n",
            "38/38 - 0s - loss: 0.0158 - val_loss: 0.0197 - 340ms/epoch - 9ms/step\n",
            "Epoch 171/500\n",
            "38/38 - 0s - loss: 0.0162 - val_loss: 0.0198 - 328ms/epoch - 9ms/step\n",
            "Epoch 172/500\n",
            "38/38 - 0s - loss: 0.0165 - val_loss: 0.0199 - 345ms/epoch - 9ms/step\n",
            "Epoch 173/500\n",
            "38/38 - 0s - loss: 0.0171 - val_loss: 0.0203 - 325ms/epoch - 9ms/step\n",
            "Epoch 174/500\n",
            "38/38 - 0s - loss: 0.0162 - val_loss: 0.0200 - 318ms/epoch - 8ms/step\n",
            "Epoch 175/500\n",
            "38/38 - 0s - loss: 0.0164 - val_loss: 0.0199 - 351ms/epoch - 9ms/step\n",
            "Epoch 176/500\n",
            "38/38 - 0s - loss: 0.0166 - val_loss: 0.0199 - 366ms/epoch - 10ms/step\n",
            "Epoch 177/500\n",
            "38/38 - 0s - loss: 0.0179 - val_loss: 0.0202 - 350ms/epoch - 9ms/step\n",
            "Epoch 178/500\n",
            "38/38 - 0s - loss: 0.0162 - val_loss: 0.0203 - 338ms/epoch - 9ms/step\n",
            "Epoch 179/500\n",
            "38/38 - 0s - loss: 0.0164 - val_loss: 0.0199 - 333ms/epoch - 9ms/step\n",
            "Epoch 180/500\n",
            "38/38 - 0s - loss: 0.0155 - val_loss: 0.0197 - 321ms/epoch - 8ms/step\n",
            "Epoch 181/500\n",
            "38/38 - 0s - loss: 0.0167 - val_loss: 0.0195 - 365ms/epoch - 10ms/step\n",
            "Epoch 182/500\n",
            "38/38 - 0s - loss: 0.0168 - val_loss: 0.0197 - 295ms/epoch - 8ms/step\n",
            "Epoch 183/500\n",
            "38/38 - 0s - loss: 0.0158 - val_loss: 0.0203 - 332ms/epoch - 9ms/step\n",
            "Epoch 184/500\n",
            "38/38 - 0s - loss: 0.0168 - val_loss: 0.0206 - 358ms/epoch - 9ms/step\n",
            "Epoch 185/500\n",
            "38/38 - 0s - loss: 0.0165 - val_loss: 0.0201 - 356ms/epoch - 9ms/step\n",
            "Epoch 186/500\n",
            "38/38 - 0s - loss: 0.0164 - val_loss: 0.0209 - 323ms/epoch - 9ms/step\n",
            "Epoch 187/500\n",
            "38/38 - 0s - loss: 0.0162 - val_loss: 0.0216 - 319ms/epoch - 8ms/step\n",
            "Epoch 188/500\n",
            "38/38 - 0s - loss: 0.0166 - val_loss: 0.0219 - 295ms/epoch - 8ms/step\n",
            "Epoch 189/500\n",
            "38/38 - 0s - loss: 0.0155 - val_loss: 0.0216 - 341ms/epoch - 9ms/step\n",
            "Epoch 190/500\n",
            "38/38 - 0s - loss: 0.0166 - val_loss: 0.0213 - 341ms/epoch - 9ms/step\n",
            "Epoch 191/500\n",
            "38/38 - 0s - loss: 0.0154 - val_loss: 0.0210 - 296ms/epoch - 8ms/step\n",
            "Epoch 192/500\n",
            "38/38 - 0s - loss: 0.0159 - val_loss: 0.0225 - 322ms/epoch - 8ms/step\n",
            "Epoch 193/500\n",
            "38/38 - 0s - loss: 0.0168 - val_loss: 0.0225 - 325ms/epoch - 9ms/step\n",
            "Epoch 194/500\n",
            "38/38 - 0s - loss: 0.0161 - val_loss: 0.0216 - 319ms/epoch - 8ms/step\n",
            "Epoch 195/500\n",
            "38/38 - 0s - loss: 0.0162 - val_loss: 0.0220 - 323ms/epoch - 8ms/step\n",
            "Epoch 196/500\n",
            "38/38 - 0s - loss: 0.0169 - val_loss: 0.0223 - 346ms/epoch - 9ms/step\n",
            "Epoch 197/500\n",
            "38/38 - 0s - loss: 0.0147 - val_loss: 0.0219 - 315ms/epoch - 8ms/step\n",
            "Epoch 198/500\n",
            "38/38 - 0s - loss: 0.0163 - val_loss: 0.0230 - 293ms/epoch - 8ms/step\n",
            "Epoch 199/500\n",
            "38/38 - 0s - loss: 0.0172 - val_loss: 0.0206 - 289ms/epoch - 8ms/step\n",
            "Epoch 200/500\n",
            "38/38 - 0s - loss: 0.0152 - val_loss: 0.0205 - 315ms/epoch - 8ms/step\n",
            "Epoch 201/500\n",
            "38/38 - 0s - loss: 0.0162 - val_loss: 0.0208 - 291ms/epoch - 8ms/step\n",
            "Epoch 202/500\n",
            "38/38 - 0s - loss: 0.0167 - val_loss: 0.0208 - 324ms/epoch - 9ms/step\n",
            "Epoch 203/500\n",
            "38/38 - 0s - loss: 0.0162 - val_loss: 0.0218 - 327ms/epoch - 9ms/step\n",
            "Epoch 204/500\n",
            "38/38 - 0s - loss: 0.0161 - val_loss: 0.0216 - 346ms/epoch - 9ms/step\n",
            "Epoch 205/500\n",
            "38/38 - 0s - loss: 0.0160 - val_loss: 0.0220 - 307ms/epoch - 8ms/step\n",
            "Epoch 206/500\n",
            "38/38 - 0s - loss: 0.0163 - val_loss: 0.0220 - 335ms/epoch - 9ms/step\n",
            "Epoch 207/500\n",
            "38/38 - 0s - loss: 0.0156 - val_loss: 0.0219 - 318ms/epoch - 8ms/step\n",
            "Epoch 208/500\n",
            "38/38 - 0s - loss: 0.0152 - val_loss: 0.0226 - 290ms/epoch - 8ms/step\n",
            "Epoch 209/500\n",
            "38/38 - 0s - loss: 0.0166 - val_loss: 0.0236 - 362ms/epoch - 10ms/step\n",
            "Epoch 210/500\n",
            "38/38 - 0s - loss: 0.0157 - val_loss: 0.0235 - 380ms/epoch - 10ms/step\n",
            "Epoch 211/500\n",
            "38/38 - 0s - loss: 0.0158 - val_loss: 0.0229 - 357ms/epoch - 9ms/step\n",
            "Epoch 212/500\n",
            "38/38 - 0s - loss: 0.0158 - val_loss: 0.0231 - 322ms/epoch - 8ms/step\n",
            "Epoch 213/500\n",
            "38/38 - 0s - loss: 0.0163 - val_loss: 0.0247 - 330ms/epoch - 9ms/step\n",
            "Epoch 214/500\n",
            "38/38 - 0s - loss: 0.0157 - val_loss: 0.0239 - 322ms/epoch - 8ms/step\n",
            "Epoch 215/500\n",
            "38/38 - 0s - loss: 0.0168 - val_loss: 0.0240 - 324ms/epoch - 9ms/step\n",
            "Epoch 216/500\n",
            "38/38 - 0s - loss: 0.0143 - val_loss: 0.0236 - 349ms/epoch - 9ms/step\n",
            "Epoch 217/500\n",
            "38/38 - 0s - loss: 0.0161 - val_loss: 0.0245 - 346ms/epoch - 9ms/step\n",
            "Epoch 218/500\n",
            "38/38 - 0s - loss: 0.0160 - val_loss: 0.0240 - 326ms/epoch - 9ms/step\n",
            "Epoch 219/500\n",
            "38/38 - 0s - loss: 0.0155 - val_loss: 0.0248 - 331ms/epoch - 9ms/step\n",
            "Epoch 220/500\n",
            "38/38 - 0s - loss: 0.0155 - val_loss: 0.0244 - 329ms/epoch - 9ms/step\n",
            "Epoch 221/500\n",
            "38/38 - 0s - loss: 0.0157 - val_loss: 0.0256 - 355ms/epoch - 9ms/step\n",
            "Epoch 222/500\n",
            "38/38 - 0s - loss: 0.0164 - val_loss: 0.0241 - 339ms/epoch - 9ms/step\n",
            "Epoch 223/500\n",
            "38/38 - 0s - loss: 0.0149 - val_loss: 0.0249 - 332ms/epoch - 9ms/step\n",
            "Epoch 224/500\n",
            "38/38 - 0s - loss: 0.0168 - val_loss: 0.0274 - 351ms/epoch - 9ms/step\n",
            "Epoch 225/500\n",
            "38/38 - 0s - loss: 0.0157 - val_loss: 0.0271 - 351ms/epoch - 9ms/step\n",
            "Epoch 226/500\n",
            "38/38 - 0s - loss: 0.0165 - val_loss: 0.0271 - 325ms/epoch - 9ms/step\n",
            "Epoch 227/500\n",
            "38/38 - 0s - loss: 0.0155 - val_loss: 0.0260 - 358ms/epoch - 9ms/step\n",
            "Epoch 228/500\n",
            "38/38 - 0s - loss: 0.0166 - val_loss: 0.0262 - 340ms/epoch - 9ms/step\n",
            "Epoch 229/500\n",
            "38/38 - 0s - loss: 0.0154 - val_loss: 0.0260 - 329ms/epoch - 9ms/step\n",
            "Epoch 230/500\n",
            "38/38 - 0s - loss: 0.0160 - val_loss: 0.0247 - 348ms/epoch - 9ms/step\n",
            "Epoch 231/500\n",
            "38/38 - 0s - loss: 0.0163 - val_loss: 0.0246 - 326ms/epoch - 9ms/step\n",
            "Epoch 232/500\n",
            "38/38 - 0s - loss: 0.0161 - val_loss: 0.0255 - 332ms/epoch - 9ms/step\n",
            "Epoch 233/500\n",
            "38/38 - 0s - loss: 0.0159 - val_loss: 0.0256 - 341ms/epoch - 9ms/step\n",
            "Epoch 234/500\n",
            "38/38 - 0s - loss: 0.0161 - val_loss: 0.0245 - 348ms/epoch - 9ms/step\n",
            "Epoch 235/500\n",
            "38/38 - 0s - loss: 0.0152 - val_loss: 0.0255 - 353ms/epoch - 9ms/step\n",
            "Epoch 236/500\n",
            "38/38 - 0s - loss: 0.0155 - val_loss: 0.0250 - 368ms/epoch - 10ms/step\n",
            "Epoch 237/500\n",
            "38/38 - 0s - loss: 0.0164 - val_loss: 0.0252 - 327ms/epoch - 9ms/step\n",
            "Epoch 238/500\n",
            "38/38 - 0s - loss: 0.0157 - val_loss: 0.0256 - 347ms/epoch - 9ms/step\n",
            "Epoch 239/500\n",
            "38/38 - 0s - loss: 0.0164 - val_loss: 0.0274 - 364ms/epoch - 10ms/step\n",
            "Epoch 240/500\n",
            "38/38 - 0s - loss: 0.0148 - val_loss: 0.0282 - 352ms/epoch - 9ms/step\n",
            "Epoch 241/500\n",
            "38/38 - 0s - loss: 0.0157 - val_loss: 0.0281 - 346ms/epoch - 9ms/step\n",
            "Epoch 242/500\n",
            "38/38 - 0s - loss: 0.0161 - val_loss: 0.0265 - 309ms/epoch - 8ms/step\n",
            "Epoch 243/500\n",
            "38/38 - 0s - loss: 0.0154 - val_loss: 0.0267 - 299ms/epoch - 8ms/step\n",
            "Epoch 244/500\n",
            "38/38 - 0s - loss: 0.0156 - val_loss: 0.0275 - 329ms/epoch - 9ms/step\n",
            "Epoch 245/500\n",
            "38/38 - 0s - loss: 0.0150 - val_loss: 0.0265 - 311ms/epoch - 8ms/step\n",
            "Epoch 246/500\n",
            "38/38 - 0s - loss: 0.0155 - val_loss: 0.0269 - 348ms/epoch - 9ms/step\n",
            "Epoch 247/500\n",
            "38/38 - 0s - loss: 0.0159 - val_loss: 0.0277 - 341ms/epoch - 9ms/step\n",
            "Epoch 248/500\n",
            "38/38 - 0s - loss: 0.0159 - val_loss: 0.0265 - 310ms/epoch - 8ms/step\n",
            "Epoch 249/500\n",
            "38/38 - 0s - loss: 0.0161 - val_loss: 0.0284 - 301ms/epoch - 8ms/step\n",
            "Epoch 250/500\n",
            "38/38 - 0s - loss: 0.0163 - val_loss: 0.0282 - 322ms/epoch - 8ms/step\n",
            "Epoch 251/500\n",
            "38/38 - 0s - loss: 0.0159 - val_loss: 0.0278 - 360ms/epoch - 9ms/step\n",
            "Epoch 252/500\n",
            "38/38 - 0s - loss: 0.0148 - val_loss: 0.0279 - 319ms/epoch - 8ms/step\n",
            "Epoch 253/500\n",
            "38/38 - 0s - loss: 0.0151 - val_loss: 0.0289 - 299ms/epoch - 8ms/step\n",
            "Epoch 254/500\n",
            "38/38 - 0s - loss: 0.0147 - val_loss: 0.0285 - 309ms/epoch - 8ms/step\n",
            "Epoch 255/500\n",
            "38/38 - 0s - loss: 0.0144 - val_loss: 0.0290 - 306ms/epoch - 8ms/step\n",
            "Epoch 256/500\n",
            "38/38 - 0s - loss: 0.0152 - val_loss: 0.0293 - 305ms/epoch - 8ms/step\n",
            "Epoch 257/500\n",
            "38/38 - 0s - loss: 0.0153 - val_loss: 0.0293 - 341ms/epoch - 9ms/step\n",
            "Epoch 258/500\n",
            "38/38 - 0s - loss: 0.0153 - val_loss: 0.0313 - 320ms/epoch - 8ms/step\n",
            "Epoch 259/500\n",
            "38/38 - 0s - loss: 0.0152 - val_loss: 0.0314 - 344ms/epoch - 9ms/step\n",
            "Epoch 260/500\n",
            "38/38 - 0s - loss: 0.0156 - val_loss: 0.0306 - 299ms/epoch - 8ms/step\n",
            "Epoch 261/500\n",
            "38/38 - 0s - loss: 0.0177 - val_loss: 0.0327 - 320ms/epoch - 8ms/step\n",
            "Epoch 262/500\n",
            "38/38 - 0s - loss: 0.0143 - val_loss: 0.0339 - 337ms/epoch - 9ms/step\n",
            "Epoch 263/500\n",
            "38/38 - 0s - loss: 0.0155 - val_loss: 0.0314 - 320ms/epoch - 8ms/step\n",
            "Epoch 264/500\n",
            "38/38 - 0s - loss: 0.0156 - val_loss: 0.0319 - 328ms/epoch - 9ms/step\n",
            "Epoch 265/500\n",
            "38/38 - 0s - loss: 0.0163 - val_loss: 0.0312 - 333ms/epoch - 9ms/step\n",
            "Epoch 266/500\n",
            "38/38 - 0s - loss: 0.0156 - val_loss: 0.0313 - 331ms/epoch - 9ms/step\n",
            "Epoch 267/500\n",
            "38/38 - 0s - loss: 0.0151 - val_loss: 0.0313 - 339ms/epoch - 9ms/step\n",
            "Epoch 268/500\n",
            "38/38 - 0s - loss: 0.0158 - val_loss: 0.0310 - 346ms/epoch - 9ms/step\n",
            "Epoch 269/500\n",
            "38/38 - 0s - loss: 0.0150 - val_loss: 0.0317 - 351ms/epoch - 9ms/step\n",
            "Epoch 270/500\n",
            "38/38 - 0s - loss: 0.0142 - val_loss: 0.0317 - 301ms/epoch - 8ms/step\n",
            "Epoch 271/500\n",
            "38/38 - 0s - loss: 0.0164 - val_loss: 0.0318 - 339ms/epoch - 9ms/step\n",
            "Epoch 272/500\n",
            "38/38 - 0s - loss: 0.0150 - val_loss: 0.0330 - 345ms/epoch - 9ms/step\n",
            "Epoch 273/500\n",
            "38/38 - 0s - loss: 0.0160 - val_loss: 0.0328 - 328ms/epoch - 9ms/step\n",
            "Epoch 274/500\n",
            "38/38 - 0s - loss: 0.0148 - val_loss: 0.0268 - 354ms/epoch - 9ms/step\n",
            "Epoch 275/500\n",
            "38/38 - 0s - loss: 0.0155 - val_loss: 0.0275 - 333ms/epoch - 9ms/step\n",
            "Epoch 276/500\n",
            "38/38 - 0s - loss: 0.0153 - val_loss: 0.0283 - 365ms/epoch - 10ms/step\n",
            "Epoch 277/500\n",
            "38/38 - 0s - loss: 0.0143 - val_loss: 0.0287 - 363ms/epoch - 10ms/step\n",
            "Epoch 278/500\n",
            "38/38 - 0s - loss: 0.0147 - val_loss: 0.0286 - 360ms/epoch - 9ms/step\n",
            "Epoch 279/500\n",
            "38/38 - 0s - loss: 0.0154 - val_loss: 0.0286 - 334ms/epoch - 9ms/step\n",
            "Epoch 280/500\n",
            "38/38 - 0s - loss: 0.0156 - val_loss: 0.0312 - 319ms/epoch - 8ms/step\n",
            "Epoch 281/500\n",
            "38/38 - 0s - loss: 0.0149 - val_loss: 0.0323 - 316ms/epoch - 8ms/step\n",
            "Epoch 282/500\n",
            "38/38 - 0s - loss: 0.0159 - val_loss: 0.0305 - 329ms/epoch - 9ms/step\n",
            "Epoch 283/500\n",
            "38/38 - 0s - loss: 0.0151 - val_loss: 0.0317 - 325ms/epoch - 9ms/step\n",
            "Epoch 284/500\n",
            "38/38 - 0s - loss: 0.0142 - val_loss: 0.0317 - 320ms/epoch - 8ms/step\n",
            "Epoch 285/500\n",
            "38/38 - 0s - loss: 0.0148 - val_loss: 0.0320 - 331ms/epoch - 9ms/step\n",
            "Epoch 286/500\n",
            "38/38 - 0s - loss: 0.0158 - val_loss: 0.0312 - 316ms/epoch - 8ms/step\n",
            "Epoch 287/500\n",
            "38/38 - 1s - loss: 0.0146 - val_loss: 0.0316 - 518ms/epoch - 14ms/step\n",
            "Epoch 288/500\n",
            "38/38 - 1s - loss: 0.0142 - val_loss: 0.0325 - 671ms/epoch - 18ms/step\n",
            "Epoch 289/500\n",
            "38/38 - 1s - loss: 0.0153 - val_loss: 0.0324 - 625ms/epoch - 16ms/step\n",
            "Epoch 290/500\n",
            "38/38 - 1s - loss: 0.0148 - val_loss: 0.0326 - 630ms/epoch - 17ms/step\n",
            "Epoch 291/500\n",
            "38/38 - 1s - loss: 0.0146 - val_loss: 0.0321 - 1s/epoch - 28ms/step\n",
            "Epoch 292/500\n",
            "38/38 - 1s - loss: 0.0150 - val_loss: 0.0329 - 828ms/epoch - 22ms/step\n",
            "Epoch 293/500\n",
            "38/38 - 1s - loss: 0.0157 - val_loss: 0.0340 - 689ms/epoch - 18ms/step\n",
            "Epoch 294/500\n",
            "38/38 - 1s - loss: 0.0165 - val_loss: 0.0359 - 823ms/epoch - 22ms/step\n",
            "Epoch 295/500\n",
            "38/38 - 1s - loss: 0.0153 - val_loss: 0.0363 - 680ms/epoch - 18ms/step\n",
            "Epoch 296/500\n",
            "38/38 - 1s - loss: 0.0146 - val_loss: 0.0347 - 695ms/epoch - 18ms/step\n",
            "Epoch 297/500\n",
            "38/38 - 1s - loss: 0.0152 - val_loss: 0.0342 - 683ms/epoch - 18ms/step\n",
            "Epoch 298/500\n",
            "38/38 - 1s - loss: 0.0171 - val_loss: 0.0335 - 1s/epoch - 30ms/step\n",
            "Epoch 299/500\n",
            "38/38 - 1s - loss: 0.0143 - val_loss: 0.0352 - 866ms/epoch - 23ms/step\n",
            "Epoch 300/500\n",
            "38/38 - 1s - loss: 0.0148 - val_loss: 0.0349 - 532ms/epoch - 14ms/step\n",
            "Epoch 301/500\n",
            "38/38 - 1s - loss: 0.0144 - val_loss: 0.0346 - 937ms/epoch - 25ms/step\n",
            "Epoch 302/500\n",
            "38/38 - 1s - loss: 0.0149 - val_loss: 0.0354 - 1s/epoch - 32ms/step\n",
            "Epoch 303/500\n",
            "38/38 - 1s - loss: 0.0156 - val_loss: 0.0356 - 818ms/epoch - 22ms/step\n",
            "Epoch 304/500\n",
            "38/38 - 1s - loss: 0.0150 - val_loss: 0.0368 - 975ms/epoch - 26ms/step\n",
            "Epoch 305/500\n",
            "38/38 - 1s - loss: 0.0149 - val_loss: 0.0369 - 1s/epoch - 28ms/step\n",
            "Epoch 306/500\n",
            "38/38 - 1s - loss: 0.0145 - val_loss: 0.0348 - 1s/epoch - 26ms/step\n",
            "Epoch 307/500\n",
            "38/38 - 1s - loss: 0.0157 - val_loss: 0.0365 - 762ms/epoch - 20ms/step\n",
            "Epoch 308/500\n",
            "38/38 - 1s - loss: 0.0148 - val_loss: 0.0361 - 614ms/epoch - 16ms/step\n",
            "Epoch 309/500\n",
            "38/38 - 1s - loss: 0.0144 - val_loss: 0.0367 - 718ms/epoch - 19ms/step\n",
            "Epoch 310/500\n",
            "38/38 - 1s - loss: 0.0144 - val_loss: 0.0336 - 595ms/epoch - 16ms/step\n",
            "Epoch 311/500\n",
            "38/38 - 1s - loss: 0.0143 - val_loss: 0.0349 - 682ms/epoch - 18ms/step\n",
            "Epoch 312/500\n",
            "38/38 - 1s - loss: 0.0140 - val_loss: 0.0352 - 593ms/epoch - 16ms/step\n",
            "Epoch 313/500\n",
            "38/38 - 0s - loss: 0.0152 - val_loss: 0.0355 - 496ms/epoch - 13ms/step\n",
            "Epoch 314/500\n",
            "38/38 - 1s - loss: 0.0146 - val_loss: 0.0326 - 647ms/epoch - 17ms/step\n",
            "Epoch 315/500\n",
            "38/38 - 1s - loss: 0.0162 - val_loss: 0.0314 - 749ms/epoch - 20ms/step\n",
            "Epoch 316/500\n",
            "38/38 - 0s - loss: 0.0149 - val_loss: 0.0322 - 452ms/epoch - 12ms/step\n",
            "Epoch 317/500\n",
            "38/38 - 0s - loss: 0.0150 - val_loss: 0.0322 - 370ms/epoch - 10ms/step\n",
            "Epoch 318/500\n",
            "38/38 - 0s - loss: 0.0136 - val_loss: 0.0338 - 353ms/epoch - 9ms/step\n",
            "Epoch 319/500\n",
            "38/38 - 0s - loss: 0.0152 - val_loss: 0.0345 - 332ms/epoch - 9ms/step\n",
            "Epoch 320/500\n",
            "38/38 - 0s - loss: 0.0149 - val_loss: 0.0362 - 341ms/epoch - 9ms/step\n",
            "Epoch 321/500\n",
            "38/38 - 0s - loss: 0.0145 - val_loss: 0.0356 - 360ms/epoch - 9ms/step\n",
            "Epoch 322/500\n",
            "38/38 - 0s - loss: 0.0147 - val_loss: 0.0362 - 304ms/epoch - 8ms/step\n",
            "Epoch 323/500\n",
            "38/38 - 0s - loss: 0.0148 - val_loss: 0.0376 - 335ms/epoch - 9ms/step\n",
            "Epoch 324/500\n",
            "38/38 - 0s - loss: 0.0160 - val_loss: 0.0402 - 347ms/epoch - 9ms/step\n",
            "Epoch 325/500\n",
            "38/38 - 0s - loss: 0.0152 - val_loss: 0.0388 - 297ms/epoch - 8ms/step\n",
            "Epoch 326/500\n",
            "38/38 - 0s - loss: 0.0168 - val_loss: 0.0367 - 364ms/epoch - 10ms/step\n",
            "Epoch 327/500\n",
            "38/38 - 0s - loss: 0.0140 - val_loss: 0.0347 - 329ms/epoch - 9ms/step\n",
            "Epoch 328/500\n",
            "38/38 - 0s - loss: 0.0152 - val_loss: 0.0349 - 320ms/epoch - 8ms/step\n",
            "Epoch 329/500\n",
            "38/38 - 0s - loss: 0.0142 - val_loss: 0.0361 - 361ms/epoch - 10ms/step\n",
            "Epoch 330/500\n",
            "38/38 - 0s - loss: 0.0143 - val_loss: 0.0362 - 354ms/epoch - 9ms/step\n",
            "Epoch 331/500\n",
            "38/38 - 0s - loss: 0.0165 - val_loss: 0.0352 - 311ms/epoch - 8ms/step\n",
            "Epoch 332/500\n",
            "38/38 - 0s - loss: 0.0157 - val_loss: 0.0359 - 363ms/epoch - 10ms/step\n",
            "Epoch 333/500\n",
            "38/38 - 0s - loss: 0.0141 - val_loss: 0.0368 - 346ms/epoch - 9ms/step\n",
            "Epoch 334/500\n",
            "38/38 - 0s - loss: 0.0147 - val_loss: 0.0352 - 322ms/epoch - 8ms/step\n",
            "Epoch 335/500\n",
            "38/38 - 0s - loss: 0.0147 - val_loss: 0.0364 - 328ms/epoch - 9ms/step\n",
            "Epoch 336/500\n",
            "38/38 - 0s - loss: 0.0148 - val_loss: 0.0370 - 307ms/epoch - 8ms/step\n",
            "Epoch 337/500\n",
            "38/38 - 0s - loss: 0.0145 - val_loss: 0.0387 - 344ms/epoch - 9ms/step\n",
            "Epoch 338/500\n",
            "38/38 - 0s - loss: 0.0137 - val_loss: 0.0393 - 339ms/epoch - 9ms/step\n",
            "Epoch 339/500\n",
            "38/38 - 0s - loss: 0.0150 - val_loss: 0.0344 - 341ms/epoch - 9ms/step\n",
            "Epoch 340/500\n",
            "38/38 - 0s - loss: 0.0143 - val_loss: 0.0348 - 367ms/epoch - 10ms/step\n",
            "Epoch 341/500\n",
            "38/38 - 0s - loss: 0.0148 - val_loss: 0.0364 - 324ms/epoch - 9ms/step\n",
            "Epoch 342/500\n",
            "38/38 - 0s - loss: 0.0144 - val_loss: 0.0384 - 352ms/epoch - 9ms/step\n",
            "Epoch 343/500\n",
            "38/38 - 0s - loss: 0.0145 - val_loss: 0.0389 - 355ms/epoch - 9ms/step\n",
            "Epoch 344/500\n",
            "38/38 - 0s - loss: 0.0151 - val_loss: 0.0388 - 306ms/epoch - 8ms/step\n",
            "Epoch 345/500\n",
            "38/38 - 0s - loss: 0.0139 - val_loss: 0.0402 - 325ms/epoch - 9ms/step\n",
            "Epoch 346/500\n",
            "38/38 - 0s - loss: 0.0165 - val_loss: 0.0401 - 337ms/epoch - 9ms/step\n",
            "Epoch 347/500\n",
            "38/38 - 0s - loss: 0.0136 - val_loss: 0.0408 - 343ms/epoch - 9ms/step\n",
            "Epoch 348/500\n",
            "38/38 - 0s - loss: 0.0148 - val_loss: 0.0391 - 348ms/epoch - 9ms/step\n",
            "Epoch 349/500\n",
            "38/38 - 0s - loss: 0.0141 - val_loss: 0.0399 - 335ms/epoch - 9ms/step\n",
            "Epoch 350/500\n",
            "38/38 - 0s - loss: 0.0142 - val_loss: 0.0402 - 353ms/epoch - 9ms/step\n",
            "Epoch 351/500\n",
            "38/38 - 0s - loss: 0.0156 - val_loss: 0.0397 - 325ms/epoch - 9ms/step\n",
            "Epoch 352/500\n",
            "38/38 - 0s - loss: 0.0145 - val_loss: 0.0395 - 319ms/epoch - 8ms/step\n",
            "Epoch 353/500\n",
            "38/38 - 0s - loss: 0.0153 - val_loss: 0.0387 - 342ms/epoch - 9ms/step\n",
            "Epoch 354/500\n",
            "38/38 - 0s - loss: 0.0140 - val_loss: 0.0395 - 318ms/epoch - 8ms/step\n",
            "Epoch 355/500\n",
            "38/38 - 0s - loss: 0.0146 - val_loss: 0.0403 - 347ms/epoch - 9ms/step\n",
            "Epoch 356/500\n",
            "38/38 - 0s - loss: 0.0143 - val_loss: 0.0399 - 349ms/epoch - 9ms/step\n",
            "Epoch 357/500\n",
            "38/38 - 0s - loss: 0.0147 - val_loss: 0.0402 - 312ms/epoch - 8ms/step\n",
            "Epoch 358/500\n",
            "38/38 - 0s - loss: 0.0136 - val_loss: 0.0403 - 307ms/epoch - 8ms/step\n",
            "Epoch 359/500\n",
            "38/38 - 0s - loss: 0.0156 - val_loss: 0.0407 - 382ms/epoch - 10ms/step\n",
            "Epoch 360/500\n",
            "38/38 - 0s - loss: 0.0149 - val_loss: 0.0421 - 309ms/epoch - 8ms/step\n",
            "Epoch 361/500\n",
            "38/38 - 0s - loss: 0.0143 - val_loss: 0.0414 - 320ms/epoch - 8ms/step\n",
            "Epoch 362/500\n",
            "38/38 - 0s - loss: 0.0162 - val_loss: 0.0402 - 334ms/epoch - 9ms/step\n",
            "Epoch 363/500\n",
            "38/38 - 0s - loss: 0.0152 - val_loss: 0.0420 - 334ms/epoch - 9ms/step\n",
            "Epoch 364/500\n",
            "38/38 - 0s - loss: 0.0138 - val_loss: 0.0418 - 296ms/epoch - 8ms/step\n",
            "Epoch 365/500\n",
            "38/38 - 0s - loss: 0.0150 - val_loss: 0.0416 - 331ms/epoch - 9ms/step\n",
            "Epoch 366/500\n",
            "38/38 - 0s - loss: 0.0145 - val_loss: 0.0396 - 290ms/epoch - 8ms/step\n",
            "Epoch 367/500\n",
            "38/38 - 0s - loss: 0.0152 - val_loss: 0.0401 - 345ms/epoch - 9ms/step\n",
            "Epoch 368/500\n",
            "38/38 - 0s - loss: 0.0146 - val_loss: 0.0437 - 354ms/epoch - 9ms/step\n",
            "Epoch 369/500\n",
            "38/38 - 0s - loss: 0.0149 - val_loss: 0.0426 - 303ms/epoch - 8ms/step\n",
            "Epoch 370/500\n",
            "38/38 - 0s - loss: 0.0151 - val_loss: 0.0417 - 340ms/epoch - 9ms/step\n",
            "Epoch 371/500\n",
            "38/38 - 0s - loss: 0.0141 - val_loss: 0.0424 - 318ms/epoch - 8ms/step\n",
            "Epoch 372/500\n",
            "38/38 - 0s - loss: 0.0146 - val_loss: 0.0428 - 352ms/epoch - 9ms/step\n",
            "Epoch 373/500\n",
            "38/38 - 0s - loss: 0.0148 - val_loss: 0.0438 - 309ms/epoch - 8ms/step\n",
            "Epoch 374/500\n",
            "38/38 - 0s - loss: 0.0136 - val_loss: 0.0435 - 340ms/epoch - 9ms/step\n",
            "Epoch 375/500\n",
            "38/38 - 0s - loss: 0.0146 - val_loss: 0.0334 - 347ms/epoch - 9ms/step\n",
            "Epoch 376/500\n",
            "38/38 - 0s - loss: 0.0152 - val_loss: 0.0349 - 320ms/epoch - 8ms/step\n",
            "Epoch 377/500\n",
            "38/38 - 0s - loss: 0.0148 - val_loss: 0.0359 - 349ms/epoch - 9ms/step\n",
            "Epoch 378/500\n",
            "38/38 - 0s - loss: 0.0145 - val_loss: 0.0361 - 354ms/epoch - 9ms/step\n",
            "Epoch 379/500\n",
            "38/38 - 0s - loss: 0.0149 - val_loss: 0.0366 - 353ms/epoch - 9ms/step\n",
            "Epoch 380/500\n",
            "38/38 - 0s - loss: 0.0139 - val_loss: 0.0381 - 342ms/epoch - 9ms/step\n",
            "Epoch 381/500\n",
            "38/38 - 0s - loss: 0.0156 - val_loss: 0.0385 - 331ms/epoch - 9ms/step\n",
            "Epoch 382/500\n",
            "38/38 - 0s - loss: 0.0147 - val_loss: 0.0382 - 360ms/epoch - 9ms/step\n",
            "Epoch 383/500\n",
            "38/38 - 0s - loss: 0.0156 - val_loss: 0.0379 - 334ms/epoch - 9ms/step\n",
            "Epoch 384/500\n",
            "38/38 - 0s - loss: 0.0139 - val_loss: 0.0380 - 328ms/epoch - 9ms/step\n",
            "Epoch 385/500\n",
            "38/38 - 0s - loss: 0.0143 - val_loss: 0.0396 - 347ms/epoch - 9ms/step\n",
            "Epoch 386/500\n",
            "38/38 - 0s - loss: 0.0146 - val_loss: 0.0454 - 349ms/epoch - 9ms/step\n",
            "Epoch 387/500\n",
            "38/38 - 0s - loss: 0.0154 - val_loss: 0.0448 - 348ms/epoch - 9ms/step\n",
            "Epoch 388/500\n",
            "38/38 - 0s - loss: 0.0140 - val_loss: 0.0425 - 354ms/epoch - 9ms/step\n",
            "Epoch 389/500\n",
            "38/38 - 0s - loss: 0.0150 - val_loss: 0.0423 - 357ms/epoch - 9ms/step\n",
            "Epoch 390/500\n",
            "38/38 - 0s - loss: 0.0142 - val_loss: 0.0417 - 295ms/epoch - 8ms/step\n",
            "Epoch 391/500\n",
            "38/38 - 0s - loss: 0.0143 - val_loss: 0.0419 - 356ms/epoch - 9ms/step\n",
            "Epoch 392/500\n",
            "38/38 - 0s - loss: 0.0138 - val_loss: 0.0423 - 306ms/epoch - 8ms/step\n",
            "Epoch 393/500\n",
            "38/38 - 0s - loss: 0.0138 - val_loss: 0.0421 - 296ms/epoch - 8ms/step\n",
            "Epoch 394/500\n",
            "38/38 - 0s - loss: 0.0132 - val_loss: 0.0412 - 352ms/epoch - 9ms/step\n",
            "Epoch 395/500\n",
            "38/38 - 0s - loss: 0.0152 - val_loss: 0.0419 - 345ms/epoch - 9ms/step\n",
            "Epoch 396/500\n",
            "38/38 - 0s - loss: 0.0138 - val_loss: 0.0413 - 351ms/epoch - 9ms/step\n",
            "Epoch 397/500\n",
            "38/38 - 0s - loss: 0.0137 - val_loss: 0.0396 - 315ms/epoch - 8ms/step\n",
            "Epoch 398/500\n",
            "38/38 - 0s - loss: 0.0138 - val_loss: 0.0391 - 339ms/epoch - 9ms/step\n",
            "Epoch 399/500\n",
            "38/38 - 0s - loss: 0.0136 - val_loss: 0.0405 - 372ms/epoch - 10ms/step\n",
            "Epoch 400/500\n",
            "38/38 - 0s - loss: 0.0136 - val_loss: 0.0407 - 332ms/epoch - 9ms/step\n",
            "Epoch 401/500\n",
            "38/38 - 0s - loss: 0.0151 - val_loss: 0.0368 - 337ms/epoch - 9ms/step\n",
            "Epoch 402/500\n",
            "38/38 - 0s - loss: 0.0137 - val_loss: 0.0385 - 344ms/epoch - 9ms/step\n",
            "Epoch 403/500\n",
            "38/38 - 0s - loss: 0.0136 - val_loss: 0.0396 - 322ms/epoch - 8ms/step\n",
            "Epoch 404/500\n",
            "38/38 - 0s - loss: 0.0144 - val_loss: 0.0377 - 344ms/epoch - 9ms/step\n",
            "Epoch 405/500\n",
            "38/38 - 0s - loss: 0.0161 - val_loss: 0.0382 - 330ms/epoch - 9ms/step\n",
            "Epoch 406/500\n",
            "38/38 - 0s - loss: 0.0129 - val_loss: 0.0379 - 297ms/epoch - 8ms/step\n",
            "Epoch 407/500\n",
            "38/38 - 0s - loss: 0.0139 - val_loss: 0.0397 - 320ms/epoch - 8ms/step\n",
            "Epoch 408/500\n",
            "38/38 - 0s - loss: 0.0155 - val_loss: 0.0396 - 326ms/epoch - 9ms/step\n",
            "Epoch 409/500\n",
            "38/38 - 0s - loss: 0.0153 - val_loss: 0.0396 - 321ms/epoch - 8ms/step\n",
            "Epoch 410/500\n",
            "38/38 - 0s - loss: 0.0137 - val_loss: 0.0413 - 348ms/epoch - 9ms/step\n",
            "Epoch 411/500\n",
            "38/38 - 0s - loss: 0.0151 - val_loss: 0.0429 - 351ms/epoch - 9ms/step\n",
            "Epoch 412/500\n",
            "38/38 - 0s - loss: 0.0154 - val_loss: 0.0427 - 328ms/epoch - 9ms/step\n",
            "Epoch 413/500\n",
            "38/38 - 0s - loss: 0.0134 - val_loss: 0.0434 - 324ms/epoch - 9ms/step\n",
            "Epoch 414/500\n",
            "38/38 - 0s - loss: 0.0156 - val_loss: 0.0440 - 350ms/epoch - 9ms/step\n",
            "Epoch 415/500\n",
            "38/38 - 0s - loss: 0.0142 - val_loss: 0.0429 - 349ms/epoch - 9ms/step\n",
            "Epoch 416/500\n",
            "38/38 - 0s - loss: 0.0139 - val_loss: 0.0410 - 343ms/epoch - 9ms/step\n",
            "Epoch 417/500\n",
            "38/38 - 0s - loss: 0.0154 - val_loss: 0.0416 - 344ms/epoch - 9ms/step\n",
            "Epoch 418/500\n",
            "38/38 - 0s - loss: 0.0148 - val_loss: 0.0407 - 306ms/epoch - 8ms/step\n",
            "Epoch 419/500\n",
            "38/38 - 0s - loss: 0.0162 - val_loss: 0.0434 - 333ms/epoch - 9ms/step\n",
            "Epoch 420/500\n",
            "38/38 - 0s - loss: 0.0144 - val_loss: 0.0421 - 320ms/epoch - 8ms/step\n",
            "Epoch 421/500\n",
            "38/38 - 0s - loss: 0.0143 - val_loss: 0.0427 - 295ms/epoch - 8ms/step\n",
            "Epoch 422/500\n",
            "38/38 - 0s - loss: 0.0154 - val_loss: 0.0428 - 320ms/epoch - 8ms/step\n",
            "Epoch 423/500\n",
            "38/38 - 0s - loss: 0.0139 - val_loss: 0.0440 - 294ms/epoch - 8ms/step\n",
            "Epoch 424/500\n",
            "38/38 - 0s - loss: 0.0147 - val_loss: 0.0452 - 351ms/epoch - 9ms/step\n",
            "Epoch 425/500\n",
            "38/38 - 0s - loss: 0.0149 - val_loss: 0.0448 - 320ms/epoch - 8ms/step\n",
            "Epoch 426/500\n",
            "38/38 - 0s - loss: 0.0135 - val_loss: 0.0444 - 308ms/epoch - 8ms/step\n",
            "Epoch 427/500\n",
            "38/38 - 0s - loss: 0.0155 - val_loss: 0.0482 - 321ms/epoch - 8ms/step\n",
            "Epoch 428/500\n",
            "38/38 - 0s - loss: 0.0136 - val_loss: 0.0471 - 329ms/epoch - 9ms/step\n",
            "Epoch 429/500\n",
            "38/38 - 0s - loss: 0.0148 - val_loss: 0.0459 - 349ms/epoch - 9ms/step\n",
            "Epoch 430/500\n",
            "38/38 - 0s - loss: 0.0134 - val_loss: 0.0448 - 308ms/epoch - 8ms/step\n",
            "Epoch 431/500\n",
            "38/38 - 0s - loss: 0.0156 - val_loss: 0.0445 - 308ms/epoch - 8ms/step\n",
            "Epoch 432/500\n",
            "38/38 - 0s - loss: 0.0134 - val_loss: 0.0443 - 329ms/epoch - 9ms/step\n",
            "Epoch 433/500\n",
            "38/38 - 0s - loss: 0.0139 - val_loss: 0.0445 - 342ms/epoch - 9ms/step\n",
            "Epoch 434/500\n",
            "38/38 - 0s - loss: 0.0139 - val_loss: 0.0448 - 299ms/epoch - 8ms/step\n",
            "Epoch 435/500\n",
            "38/38 - 0s - loss: 0.0154 - val_loss: 0.0455 - 337ms/epoch - 9ms/step\n",
            "Epoch 436/500\n",
            "38/38 - 0s - loss: 0.0133 - val_loss: 0.0462 - 294ms/epoch - 8ms/step\n",
            "Epoch 437/500\n",
            "38/38 - 0s - loss: 0.0134 - val_loss: 0.0455 - 321ms/epoch - 8ms/step\n",
            "Epoch 438/500\n",
            "38/38 - 0s - loss: 0.0134 - val_loss: 0.0466 - 493ms/epoch - 13ms/step\n",
            "Epoch 439/500\n",
            "38/38 - 0s - loss: 0.0141 - val_loss: 0.0459 - 323ms/epoch - 9ms/step\n",
            "Epoch 440/500\n",
            "38/38 - 0s - loss: 0.0139 - val_loss: 0.0454 - 317ms/epoch - 8ms/step\n",
            "Epoch 441/500\n",
            "38/38 - 0s - loss: 0.0141 - val_loss: 0.0473 - 365ms/epoch - 10ms/step\n",
            "Epoch 442/500\n",
            "38/38 - 0s - loss: 0.0146 - val_loss: 0.0454 - 357ms/epoch - 9ms/step\n",
            "Epoch 443/500\n",
            "38/38 - 0s - loss: 0.0154 - val_loss: 0.0445 - 355ms/epoch - 9ms/step\n",
            "Epoch 444/500\n",
            "38/38 - 0s - loss: 0.0140 - val_loss: 0.0444 - 307ms/epoch - 8ms/step\n",
            "Epoch 445/500\n",
            "38/38 - 0s - loss: 0.0136 - val_loss: 0.0453 - 342ms/epoch - 9ms/step\n",
            "Epoch 446/500\n",
            "38/38 - 0s - loss: 0.0151 - val_loss: 0.0480 - 328ms/epoch - 9ms/step\n",
            "Epoch 447/500\n",
            "38/38 - 0s - loss: 0.0132 - val_loss: 0.0478 - 357ms/epoch - 9ms/step\n",
            "Epoch 448/500\n",
            "38/38 - 0s - loss: 0.0138 - val_loss: 0.0468 - 314ms/epoch - 8ms/step\n",
            "Epoch 449/500\n",
            "38/38 - 0s - loss: 0.0145 - val_loss: 0.0468 - 316ms/epoch - 8ms/step\n",
            "Epoch 450/500\n",
            "38/38 - 0s - loss: 0.0135 - val_loss: 0.0476 - 347ms/epoch - 9ms/step\n",
            "Epoch 451/500\n",
            "38/38 - 0s - loss: 0.0134 - val_loss: 0.0471 - 339ms/epoch - 9ms/step\n",
            "Epoch 452/500\n",
            "38/38 - 0s - loss: 0.0148 - val_loss: 0.0515 - 318ms/epoch - 8ms/step\n",
            "Epoch 453/500\n",
            "38/38 - 0s - loss: 0.0144 - val_loss: 0.0510 - 326ms/epoch - 9ms/step\n",
            "Epoch 454/500\n",
            "38/38 - 0s - loss: 0.0146 - val_loss: 0.0504 - 318ms/epoch - 8ms/step\n",
            "Epoch 455/500\n",
            "38/38 - 0s - loss: 0.0141 - val_loss: 0.0511 - 357ms/epoch - 9ms/step\n",
            "Epoch 456/500\n",
            "38/38 - 0s - loss: 0.0126 - val_loss: 0.0510 - 335ms/epoch - 9ms/step\n",
            "Epoch 457/500\n",
            "38/38 - 0s - loss: 0.0128 - val_loss: 0.0520 - 320ms/epoch - 8ms/step\n",
            "Epoch 458/500\n",
            "38/38 - 0s - loss: 0.0136 - val_loss: 0.0503 - 307ms/epoch - 8ms/step\n",
            "Epoch 459/500\n",
            "38/38 - 0s - loss: 0.0153 - val_loss: 0.0501 - 357ms/epoch - 9ms/step\n",
            "Epoch 460/500\n",
            "38/38 - 0s - loss: 0.0142 - val_loss: 0.0499 - 348ms/epoch - 9ms/step\n",
            "Epoch 461/500\n",
            "38/38 - 0s - loss: 0.0140 - val_loss: 0.0509 - 323ms/epoch - 8ms/step\n",
            "Epoch 462/500\n",
            "38/38 - 0s - loss: 0.0138 - val_loss: 0.0523 - 343ms/epoch - 9ms/step\n",
            "Epoch 463/500\n",
            "38/38 - 0s - loss: 0.0135 - val_loss: 0.0543 - 311ms/epoch - 8ms/step\n",
            "Epoch 464/500\n",
            "38/38 - 0s - loss: 0.0148 - val_loss: 0.0539 - 311ms/epoch - 8ms/step\n",
            "Epoch 465/500\n",
            "38/38 - 0s - loss: 0.0131 - val_loss: 0.0534 - 356ms/epoch - 9ms/step\n",
            "Epoch 466/500\n",
            "38/38 - 0s - loss: 0.0135 - val_loss: 0.0534 - 332ms/epoch - 9ms/step\n",
            "Epoch 467/500\n",
            "38/38 - 0s - loss: 0.0132 - val_loss: 0.0526 - 335ms/epoch - 9ms/step\n",
            "Epoch 468/500\n",
            "38/38 - 0s - loss: 0.0143 - val_loss: 0.0528 - 325ms/epoch - 9ms/step\n",
            "Epoch 469/500\n",
            "38/38 - 0s - loss: 0.0151 - val_loss: 0.0509 - 322ms/epoch - 8ms/step\n",
            "Epoch 470/500\n",
            "38/38 - 0s - loss: 0.0137 - val_loss: 0.0501 - 362ms/epoch - 10ms/step\n",
            "Epoch 471/500\n",
            "38/38 - 0s - loss: 0.0142 - val_loss: 0.0508 - 314ms/epoch - 8ms/step\n",
            "Epoch 472/500\n",
            "38/38 - 0s - loss: 0.0139 - val_loss: 0.0508 - 305ms/epoch - 8ms/step\n",
            "Epoch 473/500\n",
            "38/38 - 0s - loss: 0.0133 - val_loss: 0.0525 - 355ms/epoch - 9ms/step\n",
            "Epoch 474/500\n",
            "38/38 - 0s - loss: 0.0139 - val_loss: 0.0511 - 308ms/epoch - 8ms/step\n",
            "Epoch 475/500\n",
            "38/38 - 0s - loss: 0.0131 - val_loss: 0.0506 - 304ms/epoch - 8ms/step\n",
            "Epoch 476/500\n",
            "38/38 - 0s - loss: 0.0145 - val_loss: 0.0523 - 360ms/epoch - 9ms/step\n",
            "Epoch 477/500\n",
            "38/38 - 0s - loss: 0.0139 - val_loss: 0.0530 - 367ms/epoch - 10ms/step\n",
            "Epoch 478/500\n",
            "38/38 - 0s - loss: 0.0127 - val_loss: 0.0479 - 343ms/epoch - 9ms/step\n",
            "Epoch 479/500\n",
            "38/38 - 0s - loss: 0.0151 - val_loss: 0.0543 - 357ms/epoch - 9ms/step\n",
            "Epoch 480/500\n",
            "38/38 - 0s - loss: 0.0150 - val_loss: 0.0536 - 321ms/epoch - 8ms/step\n",
            "Epoch 481/500\n",
            "38/38 - 0s - loss: 0.0132 - val_loss: 0.0529 - 319ms/epoch - 8ms/step\n",
            "Epoch 482/500\n",
            "38/38 - 0s - loss: 0.0149 - val_loss: 0.0532 - 355ms/epoch - 9ms/step\n",
            "Epoch 483/500\n",
            "38/38 - 0s - loss: 0.0146 - val_loss: 0.0524 - 335ms/epoch - 9ms/step\n",
            "Epoch 484/500\n",
            "38/38 - 0s - loss: 0.0136 - val_loss: 0.0529 - 300ms/epoch - 8ms/step\n",
            "Epoch 485/500\n",
            "38/38 - 0s - loss: 0.0122 - val_loss: 0.0540 - 334ms/epoch - 9ms/step\n",
            "Epoch 486/500\n",
            "38/38 - 0s - loss: 0.0163 - val_loss: 0.0551 - 366ms/epoch - 10ms/step\n",
            "Epoch 487/500\n",
            "38/38 - 0s - loss: 0.0132 - val_loss: 0.0551 - 338ms/epoch - 9ms/step\n",
            "Epoch 488/500\n",
            "38/38 - 0s - loss: 0.0138 - val_loss: 0.0537 - 354ms/epoch - 9ms/step\n",
            "Epoch 489/500\n",
            "38/38 - 0s - loss: 0.0139 - val_loss: 0.0541 - 303ms/epoch - 8ms/step\n",
            "Epoch 490/500\n",
            "38/38 - 0s - loss: 0.0136 - val_loss: 0.0459 - 303ms/epoch - 8ms/step\n",
            "Epoch 491/500\n",
            "38/38 - 0s - loss: 0.0133 - val_loss: 0.0472 - 358ms/epoch - 9ms/step\n",
            "Epoch 492/500\n",
            "38/38 - 0s - loss: 0.0139 - val_loss: 0.0486 - 367ms/epoch - 10ms/step\n",
            "Epoch 493/500\n",
            "38/38 - 0s - loss: 0.0151 - val_loss: 0.0459 - 321ms/epoch - 8ms/step\n",
            "Epoch 494/500\n",
            "38/38 - 0s - loss: 0.0143 - val_loss: 0.0469 - 353ms/epoch - 9ms/step\n",
            "Epoch 495/500\n",
            "38/38 - 0s - loss: 0.0156 - val_loss: 0.0488 - 350ms/epoch - 9ms/step\n",
            "Epoch 496/500\n",
            "38/38 - 0s - loss: 0.0140 - val_loss: 0.0489 - 319ms/epoch - 8ms/step\n",
            "Epoch 497/500\n",
            "38/38 - 0s - loss: 0.0141 - val_loss: 0.0492 - 322ms/epoch - 8ms/step\n",
            "Epoch 498/500\n",
            "38/38 - 0s - loss: 0.0134 - val_loss: 0.0513 - 343ms/epoch - 9ms/step\n",
            "Epoch 499/500\n",
            "38/38 - 0s - loss: 0.0137 - val_loss: 0.0502 - 330ms/epoch - 9ms/step\n",
            "Epoch 500/500\n",
            "38/38 - 0s - loss: 0.0158 - val_loss: 0.0486 - 346ms/epoch - 9ms/step\n",
            "Cross-validation took 203.864s \n",
            "Model: \"sequential_1\"\n",
            "_________________________________________________________________\n",
            " Layer (type)                Output Shape              Param #   \n",
            "=================================================================\n",
            " dense_4 (Dense)             (None, 25)                100       \n",
            "                                                                 \n",
            " activation_1 (Activation)   (None, 25)                0         \n",
            "                                                                 \n",
            " dropout_2 (Dropout)         (None, 25)                0         \n",
            "                                                                 \n",
            " dense_5 (Dense)             (None, 20)                520       \n",
            "                                                                 \n",
            " dropout_3 (Dropout)         (None, 20)                0         \n",
            "                                                                 \n",
            " dense_6 (Dense)             (None, 15)                315       \n",
            "                                                                 \n",
            " dense_7 (Dense)             (None, 1)                 16        \n",
            "                                                                 \n",
            "=================================================================\n",
            "Total params: 951\n",
            "Trainable params: 951\n",
            "Non-trainable params: 0\n",
            "_________________________________________________________________\n"
          ]
        }
      ]
    },
    {
      "cell_type": "markdown",
      "metadata": {
        "id": "r4SXSxXfeyDC"
      },
      "source": [
        "## Construct ensemble\n",
        "During the *k*-fold CV we trained *k* models. We could just use the best one, however it is unlikely to optimimum for all input possibilities. Ensembling is a method of using multiple classifiers together to achieve a better result than a single one on its own.\n",
        "\n",
        "The method I use here is to weight the contributions of each classifier according to how well it performed on its test set during CV."
      ]
    },
    {
      "cell_type": "code",
      "metadata": {
        "id": "gWyHAY2meyDD",
        "colab": {
          "base_uri": "https://localhost:8080/",
          "height": 511
        },
        "outputId": "52f6d16b-bac0-4804-9734-b5db1c6fe022"
      },
      "source": [
        "plt.figure(figsize=(16,8))\n",
        "#print(model.predict(X_class))\n",
        "for i, history in enumerate(histories):\n",
        "    if i == 0:\n",
        "        plt.plot(history['loss'], color='g', label='Training')\n",
        "        plt.plot(history['val_loss'], color='b', label='Validating')\n",
        "    else:\n",
        "        plt.plot(history['loss'], color='g')\n",
        "        plt.plot(history['val_loss'], color='b')\n",
        "        \n",
        "plt.legend(fontsize=16)\n",
        "plt.xlabel(\"Epoch\", fontsize=24, color='black')\n",
        "plt.ylabel(\"Loss\", fontsize=24, color='black')\n",
        "plt.yscale('log',nonposy='clip')\n",
        "plt.show()"
      ],
      "execution_count": null,
      "outputs": [
        {
          "output_type": "display_data",
          "data": {
            "text/plain": [
              "<Figure size 1152x576 with 1 Axes>"
            ],
            "image/png": "[encoded data removed]"
          },
          "metadata": {
            "needs_background": "light"
          }
        }
      ]
    },
    {
      "cell_type": "markdown",
      "source": [
        "# Accessing Previous NNs and Applying them to Data"
      ],
      "metadata": {
        "id": "grLMvK_TNTQq"
      }
    },
    {
      "cell_type": "code",
      "metadata": {
        "id": "gasQ3-XbeyDI"
      },
      "source": [
        "# Do not forget to change this folder's name one that has the weights saved for the correct NN structure\n",
        "os.chdir('/content/drive/MyDrive/Colab Notebooks/LIP Mini-school/ML_Weights') \n",
        "results = None\n",
        "with open('/content/drive/MyDrive/Colab Notebooks/LIP Mini-school/ML_Weights/train_weights/resultsFile.pkl', 'rb') as fin: #Reload results in case notebook was closed\n",
        "    results = cPickle.load(fin)"
      ],
      "execution_count": null,
      "outputs": []
    },
    {
      "cell_type": "code",
      "metadata": {
        "id": "HBe6SkUTeyDL"
      },
      "source": [
        "model = load_model('/content/drive/MyDrive/Colab Notebooks/LIP Mini-school/ML_Weights/train_weights/train.h5')"
      ],
      "execution_count": null,
      "outputs": []
    },
    {
      "cell_type": "markdown",
      "metadata": {
        "id": "X6H5-RBWeyDS"
      },
      "source": [
        "## Response on dev and val data"
      ]
    },
    {
      "cell_type": "code",
      "metadata": {
        "id": "A06nTLtzeyDS",
        "colab": {
          "base_uri": "https://localhost:8080/"
        },
        "outputId": "0b1325dd-fe07-4e54-f98c-df9db15106bd"
      },
      "source": [
        "# Applying our data to the NNs in order to get an array with the score (probability) of it being a signal event\n",
        "pred_train = model.predict(X_class_train, verbose=0)\n",
        "pred_val = model.predict(X_class_val, verbose=0)\n",
        "pred_test = model.predict(X_class_test, verbose=0)\n",
        "\n",
        "devAUC = roc_auc_score(y_class_train[:,0], pred_train[:,0])\n",
        "print('Area under ROC curve for development data is {:.5f}'.format(devAUC))\n",
        "\n",
        "valAUC = roc_auc_score(y_class_val[:,0], pred_val[:,0])\n",
        "print('Area under ROC curve for validation data is {:.5f}'.format(valAUC))\n",
        "\n",
        "testAUC = roc_auc_score(y_class_test[:,0], pred_test[:,0])\n",
        "print('Area under ROC curve for full data is {:.5f}'.format(testAUC))"
      ],
      "execution_count": null,
      "outputs": [
        {
          "output_type": "stream",
          "name": "stdout",
          "text": [
            "Area under ROC curve for development data is 0.99838\n",
            "Area under ROC curve for validation data is 0.99844\n",
            "Area under ROC curve for full data is 0.99765\n"
          ]
        }
      ]
    },
    {
      "cell_type": "code",
      "source": [
        "from sklearn.metrics import roc_curve\n",
        "plt.figure()\n",
        "#roc_curve(real_value, NN_score)\n",
        "lw = 2\n",
        "fprdev, tprdev, thresholdsdev = roc_curve(y_class_train,pred_train)\n",
        "plt.plot(fprdev,tprdev,color='darkorange',lw=lw, label='ROC curve for devData (area = %0.2f)' % devAUC)\n",
        "fprval, tprval, thresholdsval = roc_curve(y_class_val,pred_val)\n",
        "plt.plot(fprval, tprval, color='navy', lw=lw, label='ROC curve for valData (area = %0.2f)' % valAUC)\n",
        "fprfull, tprfull, thresholdfull = roc_curve(y_class_test,pred_test)\n",
        "plt.plot(fprfull, tprfull, color='red', lw=lw, label='ROC curve for testData (area = %0.2f)' % testAUC)\n",
        "plt.plot()\n",
        "plt.xlim([0.0, 1.05])\n",
        "plt.ylim([0.0, 1.05])\n",
        "plt.xlabel(\"False Positive Rate\")\n",
        "plt.ylabel(\"True Positive Rate\")\n",
        "plt.title(\"ROC Curve for the Training Sample\")\n",
        "plt.legend(loc=\"lower right\")\n",
        "plt.show()"
      ],
      "metadata": {
        "colab": {
          "base_uri": "https://localhost:8080/",
          "height": 295
        },
        "id": "xoz-ZQgKF6F6",
        "outputId": "f9214e08-d9cd-45f5-d202-23b34b3ce324"
      },
      "execution_count": null,
      "outputs": [
        {
          "output_type": "display_data",
          "data": {
            "text/plain": [
              "<Figure size 432x288 with 1 Axes>"
            ],
            "image/png": "[encoded data removed]"
          },
          "metadata": {
            "needs_background": "light"
          }
        }
      ]
    },
    {
      "cell_type": "markdown",
      "metadata": {
        "id": "nurQggcoeyDf"
      },
      "source": [
        "## Aplying the NN to the data set in order to obtain the probabilities of being signal "
      ]
    },
    {
      "cell_type": "markdown",
      "metadata": {
        "id": "_Rix5ORSeyDf"
      },
      "source": [
        "### This is for binary selection"
      ]
    },
    {
      "cell_type": "code",
      "metadata": {
        "id": "cj9SzBQSeyDj",
        "outputId": "4314275d-4a0a-4c7a-9786-779972bacf4e",
        "colab": {
          "base_uri": "https://localhost:8080/",
          "height": 556
        }
      },
      "source": [
        "#Appending the score provided by the NN to the full dataset\n",
        "pred_full_Data = model.predict(NormFullSignal, verbose=0)\n",
        "FullSignal['signal_probability'] = pandas.Series(pred_full_Data[:,0])\n",
        "\n",
        "#Printing out histograms with the score predictions for each event type\n",
        "feature = ' Event Type'\n",
        "# Little renaming of the Event Type variable from an int to a str to be prettier on the automatic plots\n",
        "EventType = {1:'Heavy Neutral Lepton',2:'Dark Photon', 4:'Neutrino DIS'}\n",
        "for index, entry in enumerate(FullSignal[' Event Type']):\n",
        "  FullSignal[' Event Type'][index] = EventType[entry]\n",
        "\n",
        "ax = FullSignal.hist(column='signal_probability', by=feature, bins=100, grid=False, figsize=(8,16), layout=(6,1), sharex=True, color='#86bf91', zorder=2, rwidth=1.0, log=True, legend=True, sharey=False)\n",
        "\n",
        "\n",
        "for i,x in enumerate(ax):\n",
        "\n",
        "    # Despine\n",
        "    x.spines['right'].set_visible(False)\n",
        "    x.spines['top'].set_visible(False)\n",
        "    x.spines['left'].set_visible(False)\n",
        "\n",
        "    # Switch off ticks\n",
        "    x.tick_params(axis=\"both\", which=\"both\", bottom=\"off\", top=\"off\", labelbottom=\"on\", left=\"off\", right=\"off\", labelleft=\"on\")\n",
        "\n",
        "    # Draw horizontal axis lines\n",
        "    vals = x.get_yticks()\n",
        "    for tick in vals:\n",
        "        x.axhline(y=tick, linestyle='dashed', alpha=0.4, color='#eeeeee', zorder=1)\n",
        "\n",
        "    # Set x-axis label\n",
        "    x.set_xlabel(\"Probability attributed\", labelpad=20, weight='bold', size=12)\n",
        "\n",
        "    # Set y-axis label\n",
        "    if i == 1:\n",
        "        x.set_ylabel(\"Number of Events for each \"+feature, labelpad=50, weight='bold', size=12)\n",
        "\n",
        "\n",
        "\n",
        "    x.tick_params(axis='x', rotation=0)"
      ],
      "execution_count": null,
      "outputs": [
        {
          "output_type": "stream",
          "name": "stderr",
          "text": [
            "/usr/local/lib/python3.7/dist-packages/ipykernel_launcher.py:10: SettingWithCopyWarning: \n",
            "A value is trying to be set on a copy of a slice from a DataFrame\n",
            "\n",
            "See the caveats in the documentation: https://pandas.pydata.org/pandas-docs/stable/user_guide/indexing.html#returning-a-view-versus-a-copy\n",
            "  # Remove the CWD from sys.path while we load stuff.\n",
            "/usr/local/lib/python3.7/dist-packages/pandas/core/indexing.py:1732: SettingWithCopyWarning: \n",
            "A value is trying to be set on a copy of a slice from a DataFrame\n",
            "\n",
            "See the caveats in the documentation: https://pandas.pydata.org/pandas-docs/stable/user_guide/indexing.html#returning-a-view-versus-a-copy\n",
            "  self._setitem_single_block(indexer, value, name)\n"
          ]
        },
        {
          "output_type": "display_data",
          "data": {
            "text/plain": [
              "<Figure size 576x1152 with 6 Axes>"
            ],
            "image/png": "[encoded data removed]"
          },
          "metadata": {
            "needs_background": "light"
          }
        }
      ]
    },
    {
      "cell_type": "code",
      "metadata": {
        "id": "LnyQD5gEeyDu",
        "outputId": "06bf40e8-0e31-4d9d-a765-cf5a8a93796b",
        "colab": {
          "base_uri": "https://localhost:8080/"
        }
      },
      "source": [
        "print(FullSignal['signal_probability'].max())\n",
        "print(FullSignal['signal_probability'][FullSignal[' Event Type'] == 'Neutrino DIS'].max())\n",
        "\n",
        "Max = FullSignal['signal_probability'][FullSignal[' Event Type'] == 'Neutrino DIS'].max()\n",
        "Threshold = Max\n",
        "\n",
        "SurvivingSignal=FullSignal[(FullSignal[\"signal_probability\"] > Threshold) & (FullSignal[\" Event Type\"] != 'Neutrino DIS')]\n",
        "SurvivingBackground=FullSignal[(FullSignal[\"signal_probability\"] > Threshold) & (FullSignal[\" Event Type\"] == 'Neutrino DIS')]\n",
        "\n",
        "print(\"There are \" + str(len(SurvivingSignal)) + \" true  positives and \" + str(len(SurvivingBackground)) + \" false positives.\")\n",
        "print(\"This leads to a total selection efficiency of \" + str(len(SurvivingSignal)/len(FullSignal)))\n",
        "\n",
        "efficiency = 0.999\n",
        "for n in range (0,1000):\n",
        "    Threshold=1-n*0.001\n",
        "    SurvivingSignal=FullSignal[(FullSignal[\"signal_probability\"]>Threshold) & (FullSignal[\" Event Type\"] != 'Neutrino DIS')]\n",
        "    if len(SurvivingSignal)/len(Signal)>efficiency:\n",
        "        break\n",
        "        \n",
        "print(\"The threshold to keep the selection efficiency of the signal at \"+ str(efficiency*100) +\"% is \" + str(Threshold))\n",
        "\n",
        "SurvivingSignal=FullSignal[(FullSignal[\"signal_probability\"] > Threshold) & (FullSignal[\" Event Type\"] != 'Neutrino DIS')]\n",
        "SurvivingBackground=FullSignal[(FullSignal[\"signal_probability\"] > Threshold) & (FullSignal[\" Event Type\"] == 'Neutrino DIS')]\n",
        "\n",
        "print(\"There are \" + str(len(SurvivingSignal)) + \" true  positives and \" + str(len(SurvivingBackground)) + \" false positives.\")\n",
        "print(\"This leads to a total selection efficiency of \" + str(len(SurvivingSignal)/len(Signal)))\n",
        "print(\"There is, however, a background selection efficiency of \" + str(len(SurvivingBackground)/len(Background)*100) + \" %\")"
      ],
      "execution_count": null,
      "outputs": [
        {
          "output_type": "stream",
          "name": "stdout",
          "text": [
            "1.0\n",
            "0.975436806678772\n",
            "There are 10655 true  positives and 0 false positives.\n",
            "This leads to a total selection efficiency of 0.9490513939609869\n",
            "The threshold to keep the selection efficiency of the signal at 99.9% is 0.08499999999999996\n",
            "There are 10778 true  positives and 284 false positives.\n",
            "This leads to a total selection efficiency of 0.9990730441230997\n",
            "There is, however, a background selection efficiency of 64.69248291571755 %\n"
          ]
        }
      ]
    },
    {
      "cell_type": "code",
      "source": [
        ""
      ],
      "metadata": {
        "id": "RMzaKdxQX_s6"
      },
      "execution_count": null,
      "outputs": []
    }
  ]
}